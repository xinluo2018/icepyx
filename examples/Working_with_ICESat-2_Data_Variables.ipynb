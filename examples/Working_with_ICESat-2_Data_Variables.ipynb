{
 "cells": [
  {
   "cell_type": "markdown",
   "metadata": {},
   "source": [
    "## Working with ICESat-2's Nested Variables\n",
    "### Get a list of available variables and choose the ones you want to work with\n",
    "\n",
    "This notebook illustrates the use of icepyx for managing lists of available and wanted ICESat-2 data variables.\n",
    "The two use cases for variable management within your workflow are:\n",
    "1. During the data access process, whether that's via order and download (e.g. via NSIDC DAAC) or remote (e.g. via the cloud).\n",
    "2. When reading in data to a Python object (whether from local files or the cloud).\n",
    "\n",
    "A given ICESat-2 product may have over 200 variable + path combinations.\n",
    "icepyx includes a custom `Variables` module that is \"aware\" of the ATLAS sensor and how the ICESat-2 data products are stored.\n",
    "The module can be accessed independently, but is optimally used as a component of a `Query` object (Case 1) or `Read` object (Case 2).\n",
    "\n",
    "This notebook illustrates in detail how the `Variables` module behaves using a `Query` data access example.\n",
    "However, module usage is analogous through an icepyx ICESat-2 `Read` object.\n",
    "More detailed example workflows specifically for the [query](https://github.com/icesat2py/icepyx/blob/main/doc/examples/ICESat-2_DAAC_DataAccess_Example.ipynb) and [read](https://github.com/icesat2py/icepyx/blob/main/doc/examples/ICESat-2_Data_Read-in_Example.ipynb) tools within icepyx are available as separate Jupyter Notebooks.\n",
    "\n",
    "Questions? Be sure to check out the FAQs throughout this notebook, indicated as italic headings.\n",
    "\n",
    "#### Credits\n",
    "* based on the subsetting notebook by: Jessica Scheick and Zheng Liu"
   ]
  },
  {
   "cell_type": "markdown",
   "metadata": {},
   "source": [
    "### _Why do ICESat-2 products need a custom variable manager?_\n",
    "\n",
    "It can be confusing and cumbersome to comb through the 200+ variable and path combinations contained in ICESat-2 data products.\n",
    "The icepyx `Variables` module makes it easier for users to quickly find and extract the specific variables they would like to work with across multiple beams, keywords, and variables and provides reader-friendly formatting to browse variables.\n",
    "A future development goal for `icepyx` includes developing an interactive widget to further improve the user experience.\n",
    "For data read-in, additional tools are available to target specific beam characteristics (e.g. strong versus weak beams)."
   ]
  },
  {
   "cell_type": "markdown",
   "metadata": {},
   "source": [
    "#### Some technical details about the Variables module\n",
    "For those eager to push the limits or who want to know more implementation details...\n",
    "\n",
    "The only required input to the `Variables` module is `vartype`.\n",
    "`vartype` has two acceptible string values, 'order' and 'file'.\n",
    "If you use the module as shown in icepyx examples (namely through a `Read` or `Query` object), then this flag will be passed automatically.\n",
    "It simply tells the software how to generate the list of possible variable values - either by pinging NSIDC for a list of available variables (`query`) or from the user-supplied file (`read`)."
   ]
  },
  {
   "cell_type": "markdown",
   "metadata": {},
   "source": [
    "### Import packages, including icepyx"
   ]
  },
  {
   "cell_type": "code",
   "execution_count": null,
   "metadata": {},
   "outputs": [],
   "source": [
    "import icepyx as ipx\n",
    "from pprint import pprint"
   ]
  },
  {
   "cell_type": "markdown",
   "metadata": {},
   "source": [
    "## Interacting with ICESat-2 Data Variables\n",
    "\n",
    "Each variables instance (which is actually an associated Variables class object) contains two variable list attributes.\n",
    "One is the list of possible or available variables (`avail` attribute) and is unmutable, or unchangeable, as it is based on the input product specifications or files.\n",
    "The other is the list of variables you'd like to actually have (in your downloaded file or data object) from all the potential options (`wanted` attribute) and is updateable.\n",
    "\n",
    "Thus, your `avail` list depends on your data source and whether you are accessing or reading data, while your `wanted` list may change for each analysis you are working on or depending on what variables you want to see.\n",
    "\n",
    "The variables parameter has methods to:\n",
    "* get a list of all available variables, either available from the NSIDC or the file (`avail()` method).\n",
    "* append new variables to the wanted list (`append()` method).\n",
    "* remove variables from the wanted list (`remove()` method).\n",
    "\n",
    "We'll showcase the use of all of these methods and attributes below using an `icepyx.Query` object.\n",
    "Usage is identical in the case of an `icepyx.Read` object.\n",
    "More detailed example workflows specifically for the [query](https://github.com/icesat2py/icepyx/blob/main/doc/examples/ICESat-2_DAAC_DataAccess_Example.ipynb) and [read](https://github.com/icesat2py/icepyx/blob/main/doc/examples/ICESat-2_Data_Read-in_Example.ipynb) tools within icepyx are available as separate Jupyter Notebooks.\n"
   ]
  },
  {
   "cell_type": "markdown",
   "metadata": {},
   "source": [
    "### Create a query object and log in to Earthdata\n",
    "\n",
    "For this example, we'll be working with a land ice product (ATL06) for an area along West Greenland (Disko Bay).\n",
    "A second option for an atmospheric product (ATL09) that uses profiles instead of the ground track (gt) categorization is also provided."
   ]
  },
  {
   "cell_type": "code",
   "execution_count": 13,
   "metadata": {},
   "outputs": [],
   "source": [
    "region_a = ipx.Query('ATL06',[-55, 68, -48, 71],['2019-02-22','2019-02-28'], \\\n",
    "                           start_time='00:00:00', end_time='23:59:59')"
   ]
  },
  {
   "cell_type": "code",
   "execution_count": null,
   "metadata": {},
   "outputs": [],
   "source": [
    "# Uncomment and run the code in this cell to use the second variable subsetting suite of examples,\n",
    "# with the beam specifier containing \"profile\" instead of \"gt#l\"\n",
    "\n",
    "# region_a = ipx.Query('ATL09',[-55, 68, -48, 71],['2019-02-22','2019-02-28'], \\\n",
    "#              start_time='00:00:00', end_time='23:59:59')"
   ]
  },
  {
   "cell_type": "code",
   "execution_count": 14,
   "metadata": {},
   "outputs": [
    {
     "name": "stdout",
     "output_type": "stream",
     "text": [
      "Earthdata Login password: ········\n",
      "['Invalid username or password, please retry.']\n",
      "Please re-enter your Earthdata user ID: jessica.scheick\n",
      "Earthdata Login password: ········\n"
     ]
    }
   ],
   "source": [
    "region_a.earthdata_login('username','jbscheick@gmail.com')\n",
    "# region_a.earthdata_login('icepyx_devteam','icepyx.dev@gmail.com')"
   ]
  },
  {
   "cell_type": "markdown",
   "metadata": {},
   "source": [
    "### ICESat-2 data variables\n",
    "\n",
    "ICESat-2 data is natively stored in a nested file format called hdf5.\n",
    "Much like a directory-file system on a computer, each variable (file) has a unique path through the heirarchy (directories) within the file.\n",
    "Thus, some variables (e.g. `'latitude'`, `'longitude'`) have multiple paths (one for each of the six beams in most products).\n",
    "\n",
    "### Determine what variables are available\n",
    "`region_a.order_vars.avail` will return a list of all valid path+variable strings."
   ]
  },
  {
   "cell_type": "code",
   "execution_count": 15,
   "metadata": {},
   "outputs": [
    {
     "data": {
      "text/plain": [
       "['ancillary_data/atlas_sdp_gps_epoch',\n",
       " 'ancillary_data/control',\n",
       " 'ancillary_data/data_end_utc',\n",
       " 'ancillary_data/data_start_utc',\n",
       " 'ancillary_data/end_cycle',\n",
       " 'ancillary_data/end_delta_time',\n",
       " 'ancillary_data/end_geoseg',\n",
       " 'ancillary_data/end_gpssow',\n",
       " 'ancillary_data/end_gpsweek',\n",
       " 'ancillary_data/end_orbit',\n",
       " 'ancillary_data/end_region',\n",
       " 'ancillary_data/end_rgt',\n",
       " 'ancillary_data/granule_end_utc',\n",
       " 'ancillary_data/granule_start_utc',\n",
       " 'ancillary_data/qa_at_interval',\n",
       " 'ancillary_data/release',\n",
       " 'ancillary_data/start_cycle',\n",
       " 'ancillary_data/start_delta_time',\n",
       " 'ancillary_data/start_geoseg',\n",
       " 'ancillary_data/start_gpssow',\n",
       " 'ancillary_data/start_gpsweek',\n",
       " 'ancillary_data/start_orbit',\n",
       " 'ancillary_data/start_region',\n",
       " 'ancillary_data/start_rgt',\n",
       " 'ancillary_data/version',\n",
       " 'ancillary_data/land_ice/dt_hist',\n",
       " 'ancillary_data/land_ice/fit_maxiter',\n",
       " 'ancillary_data/land_ice/fpb_maxiter',\n",
       " 'ancillary_data/land_ice/max_res_ids',\n",
       " 'ancillary_data/land_ice/min_dist',\n",
       " 'ancillary_data/land_ice/min_gain_th',\n",
       " 'ancillary_data/land_ice/min_n_pe',\n",
       " 'ancillary_data/land_ice/min_n_sel',\n",
       " 'ancillary_data/land_ice/min_signal_conf',\n",
       " 'ancillary_data/land_ice/n_hist',\n",
       " 'ancillary_data/land_ice/nhist_bins',\n",
       " 'ancillary_data/land_ice/n_sigmas',\n",
       " 'ancillary_data/land_ice/proc_interval',\n",
       " 'ancillary_data/land_ice/qs_lim_bsc',\n",
       " 'ancillary_data/land_ice/qs_lim_hrs',\n",
       " 'ancillary_data/land_ice/qs_lim_hsigma',\n",
       " 'ancillary_data/land_ice/qs_lim_msw',\n",
       " 'ancillary_data/land_ice/qs_lim_snr',\n",
       " 'ancillary_data/land_ice/qs_lim_sss',\n",
       " 'ancillary_data/land_ice/rbin_width',\n",
       " 'ancillary_data/land_ice/sigma_beam',\n",
       " 'ancillary_data/land_ice/sigma_tx',\n",
       " 'ancillary_data/land_ice/t_dead',\n",
       " 'ancillary_data/land_ice/txp_maxiter',\n",
       " 'gt1l/land_ice_segments/atl06_quality_summary',\n",
       " 'gt1l/land_ice_segments/delta_time',\n",
       " 'gt1l/land_ice_segments/h_li',\n",
       " 'gt1l/land_ice_segments/h_li_sigma',\n",
       " 'gt1l/land_ice_segments/latitude',\n",
       " 'gt1l/land_ice_segments/longitude',\n",
       " 'gt1l/land_ice_segments/segment_id',\n",
       " 'gt1l/land_ice_segments/sigma_geo_h',\n",
       " 'gt1l/land_ice_segments/bias_correction/fpb_mean_corr',\n",
       " 'gt1l/land_ice_segments/bias_correction/fpb_mean_corr_sigma',\n",
       " 'gt1l/land_ice_segments/bias_correction/fpb_med_corr',\n",
       " 'gt1l/land_ice_segments/bias_correction/fpb_med_corr_sigma',\n",
       " 'gt1l/land_ice_segments/bias_correction/fpb_n_corr',\n",
       " 'gt1l/land_ice_segments/bias_correction/med_r_fit',\n",
       " 'gt1l/land_ice_segments/bias_correction/tx_mean_corr',\n",
       " 'gt1l/land_ice_segments/bias_correction/tx_med_corr',\n",
       " 'gt1l/land_ice_segments/dem/dem_flag',\n",
       " 'gt1l/land_ice_segments/dem/dem_h',\n",
       " 'gt1l/land_ice_segments/dem/geoid_free2mean',\n",
       " 'gt1l/land_ice_segments/dem/geoid_h',\n",
       " 'gt1l/land_ice_segments/fit_statistics/dh_fit_dx',\n",
       " 'gt1l/land_ice_segments/fit_statistics/dh_fit_dx_sigma',\n",
       " 'gt1l/land_ice_segments/fit_statistics/dh_fit_dy',\n",
       " 'gt1l/land_ice_segments/fit_statistics/h_expected_rms',\n",
       " 'gt1l/land_ice_segments/fit_statistics/h_mean',\n",
       " 'gt1l/land_ice_segments/fit_statistics/h_rms_misfit',\n",
       " 'gt1l/land_ice_segments/fit_statistics/h_robust_sprd',\n",
       " 'gt1l/land_ice_segments/fit_statistics/n_fit_photons',\n",
       " 'gt1l/land_ice_segments/fit_statistics/n_seg_pulses',\n",
       " 'gt1l/land_ice_segments/fit_statistics/sigma_h_mean',\n",
       " 'gt1l/land_ice_segments/fit_statistics/signal_selection_source',\n",
       " 'gt1l/land_ice_segments/fit_statistics/signal_selection_source_status',\n",
       " 'gt1l/land_ice_segments/fit_statistics/snr',\n",
       " 'gt1l/land_ice_segments/fit_statistics/snr_significance',\n",
       " 'gt1l/land_ice_segments/fit_statistics/w_surface_window_final',\n",
       " 'gt1l/land_ice_segments/geophysical/bckgrd',\n",
       " 'gt1l/land_ice_segments/geophysical/bsnow_conf',\n",
       " 'gt1l/land_ice_segments/geophysical/bsnow_h',\n",
       " 'gt1l/land_ice_segments/geophysical/bsnow_od',\n",
       " 'gt1l/land_ice_segments/geophysical/cloud_flg_asr',\n",
       " 'gt1l/land_ice_segments/geophysical/cloud_flg_atm',\n",
       " 'gt1l/land_ice_segments/geophysical/dac',\n",
       " 'gt1l/land_ice_segments/geophysical/e_bckgrd',\n",
       " 'gt1l/land_ice_segments/geophysical/layer_flag',\n",
       " 'gt1l/land_ice_segments/geophysical/msw_flag',\n",
       " 'gt1l/land_ice_segments/geophysical/neutat_delay_total',\n",
       " 'gt1l/land_ice_segments/geophysical/r_eff',\n",
       " 'gt1l/land_ice_segments/geophysical/solar_azimuth',\n",
       " 'gt1l/land_ice_segments/geophysical/solar_elevation',\n",
       " 'gt1l/land_ice_segments/geophysical/tide_earth',\n",
       " 'gt1l/land_ice_segments/geophysical/tide_earth_free2mean',\n",
       " 'gt1l/land_ice_segments/geophysical/tide_equilibrium',\n",
       " 'gt1l/land_ice_segments/geophysical/tide_load',\n",
       " 'gt1l/land_ice_segments/geophysical/tide_ocean',\n",
       " 'gt1l/land_ice_segments/geophysical/tide_pole',\n",
       " 'gt1l/land_ice_segments/ground_track/ref_azimuth',\n",
       " 'gt1l/land_ice_segments/ground_track/ref_coelv',\n",
       " 'gt1l/land_ice_segments/ground_track/seg_azimuth',\n",
       " 'gt1l/land_ice_segments/ground_track/sigma_geo_at',\n",
       " 'gt1l/land_ice_segments/ground_track/sigma_geo_r',\n",
       " 'gt1l/land_ice_segments/ground_track/sigma_geo_xt',\n",
       " 'gt1l/land_ice_segments/ground_track/x_atc',\n",
       " 'gt1l/land_ice_segments/ground_track/y_atc',\n",
       " 'gt1l/residual_histogram/bckgrd_per_m',\n",
       " 'gt1l/residual_histogram/bin_top_h',\n",
       " 'gt1l/residual_histogram/count',\n",
       " 'gt1l/residual_histogram/delta_time',\n",
       " 'gt1l/residual_histogram/ds_segment_id',\n",
       " 'gt1l/residual_histogram/lat_mean',\n",
       " 'gt1l/residual_histogram/lon_mean',\n",
       " 'gt1l/residual_histogram/pulse_count',\n",
       " 'gt1l/residual_histogram/segment_id_list',\n",
       " 'gt1l/residual_histogram/x_atc_mean',\n",
       " 'gt1l/segment_quality/delta_time',\n",
       " 'gt1l/segment_quality/record_number',\n",
       " 'gt1l/segment_quality/reference_pt_lat',\n",
       " 'gt1l/segment_quality/reference_pt_lon',\n",
       " 'gt1l/segment_quality/segment_id',\n",
       " 'gt1l/segment_quality/signal_selection_source',\n",
       " 'gt1l/segment_quality/signal_selection_status/signal_selection_status_all',\n",
       " 'gt1l/segment_quality/signal_selection_status/signal_selection_status_backup',\n",
       " 'gt1l/segment_quality/signal_selection_status/signal_selection_status_confident',\n",
       " 'gt1r/land_ice_segments/atl06_quality_summary',\n",
       " 'gt1r/land_ice_segments/delta_time',\n",
       " 'gt1r/land_ice_segments/h_li',\n",
       " 'gt1r/land_ice_segments/h_li_sigma',\n",
       " 'gt1r/land_ice_segments/latitude',\n",
       " 'gt1r/land_ice_segments/longitude',\n",
       " 'gt1r/land_ice_segments/segment_id',\n",
       " 'gt1r/land_ice_segments/sigma_geo_h',\n",
       " 'gt1r/land_ice_segments/bias_correction/fpb_mean_corr',\n",
       " 'gt1r/land_ice_segments/bias_correction/fpb_mean_corr_sigma',\n",
       " 'gt1r/land_ice_segments/bias_correction/fpb_med_corr',\n",
       " 'gt1r/land_ice_segments/bias_correction/fpb_med_corr_sigma',\n",
       " 'gt1r/land_ice_segments/bias_correction/fpb_n_corr',\n",
       " 'gt1r/land_ice_segments/bias_correction/med_r_fit',\n",
       " 'gt1r/land_ice_segments/bias_correction/tx_mean_corr',\n",
       " 'gt1r/land_ice_segments/bias_correction/tx_med_corr',\n",
       " 'gt1r/land_ice_segments/dem/dem_flag',\n",
       " 'gt1r/land_ice_segments/dem/dem_h',\n",
       " 'gt1r/land_ice_segments/dem/geoid_free2mean',\n",
       " 'gt1r/land_ice_segments/dem/geoid_h',\n",
       " 'gt1r/land_ice_segments/fit_statistics/dh_fit_dx',\n",
       " 'gt1r/land_ice_segments/fit_statistics/dh_fit_dx_sigma',\n",
       " 'gt1r/land_ice_segments/fit_statistics/dh_fit_dy',\n",
       " 'gt1r/land_ice_segments/fit_statistics/h_expected_rms',\n",
       " 'gt1r/land_ice_segments/fit_statistics/h_mean',\n",
       " 'gt1r/land_ice_segments/fit_statistics/h_rms_misfit',\n",
       " 'gt1r/land_ice_segments/fit_statistics/h_robust_sprd',\n",
       " 'gt1r/land_ice_segments/fit_statistics/n_fit_photons',\n",
       " 'gt1r/land_ice_segments/fit_statistics/n_seg_pulses',\n",
       " 'gt1r/land_ice_segments/fit_statistics/sigma_h_mean',\n",
       " 'gt1r/land_ice_segments/fit_statistics/signal_selection_source',\n",
       " 'gt1r/land_ice_segments/fit_statistics/signal_selection_source_status',\n",
       " 'gt1r/land_ice_segments/fit_statistics/snr',\n",
       " 'gt1r/land_ice_segments/fit_statistics/snr_significance',\n",
       " 'gt1r/land_ice_segments/fit_statistics/w_surface_window_final',\n",
       " 'gt1r/land_ice_segments/geophysical/bckgrd',\n",
       " 'gt1r/land_ice_segments/geophysical/bsnow_conf',\n",
       " 'gt1r/land_ice_segments/geophysical/bsnow_h',\n",
       " 'gt1r/land_ice_segments/geophysical/bsnow_od',\n",
       " 'gt1r/land_ice_segments/geophysical/cloud_flg_asr',\n",
       " 'gt1r/land_ice_segments/geophysical/cloud_flg_atm',\n",
       " 'gt1r/land_ice_segments/geophysical/dac',\n",
       " 'gt1r/land_ice_segments/geophysical/e_bckgrd',\n",
       " 'gt1r/land_ice_segments/geophysical/layer_flag',\n",
       " 'gt1r/land_ice_segments/geophysical/msw_flag',\n",
       " 'gt1r/land_ice_segments/geophysical/neutat_delay_total',\n",
       " 'gt1r/land_ice_segments/geophysical/r_eff',\n",
       " 'gt1r/land_ice_segments/geophysical/solar_azimuth',\n",
       " 'gt1r/land_ice_segments/geophysical/solar_elevation',\n",
       " 'gt1r/land_ice_segments/geophysical/tide_earth',\n",
       " 'gt1r/land_ice_segments/geophysical/tide_earth_free2mean',\n",
       " 'gt1r/land_ice_segments/geophysical/tide_equilibrium',\n",
       " 'gt1r/land_ice_segments/geophysical/tide_load',\n",
       " 'gt1r/land_ice_segments/geophysical/tide_ocean',\n",
       " 'gt1r/land_ice_segments/geophysical/tide_pole',\n",
       " 'gt1r/land_ice_segments/ground_track/ref_azimuth',\n",
       " 'gt1r/land_ice_segments/ground_track/ref_coelv',\n",
       " 'gt1r/land_ice_segments/ground_track/seg_azimuth',\n",
       " 'gt1r/land_ice_segments/ground_track/sigma_geo_at',\n",
       " 'gt1r/land_ice_segments/ground_track/sigma_geo_r',\n",
       " 'gt1r/land_ice_segments/ground_track/sigma_geo_xt',\n",
       " 'gt1r/land_ice_segments/ground_track/x_atc',\n",
       " 'gt1r/land_ice_segments/ground_track/y_atc',\n",
       " 'gt1r/residual_histogram/bckgrd_per_m',\n",
       " 'gt1r/residual_histogram/bin_top_h',\n",
       " 'gt1r/residual_histogram/count',\n",
       " 'gt1r/residual_histogram/delta_time',\n",
       " 'gt1r/residual_histogram/ds_segment_id',\n",
       " 'gt1r/residual_histogram/lat_mean',\n",
       " 'gt1r/residual_histogram/lon_mean',\n",
       " 'gt1r/residual_histogram/pulse_count',\n",
       " 'gt1r/residual_histogram/segment_id_list',\n",
       " 'gt1r/residual_histogram/x_atc_mean',\n",
       " 'gt1r/segment_quality/delta_time',\n",
       " 'gt1r/segment_quality/record_number',\n",
       " 'gt1r/segment_quality/reference_pt_lat',\n",
       " 'gt1r/segment_quality/reference_pt_lon',\n",
       " 'gt1r/segment_quality/segment_id',\n",
       " 'gt1r/segment_quality/signal_selection_source',\n",
       " 'gt1r/segment_quality/signal_selection_status/signal_selection_status_all',\n",
       " 'gt1r/segment_quality/signal_selection_status/signal_selection_status_backup',\n",
       " 'gt1r/segment_quality/signal_selection_status/signal_selection_status_confident',\n",
       " 'gt2l/land_ice_segments/atl06_quality_summary',\n",
       " 'gt2l/land_ice_segments/delta_time',\n",
       " 'gt2l/land_ice_segments/h_li',\n",
       " 'gt2l/land_ice_segments/h_li_sigma',\n",
       " 'gt2l/land_ice_segments/latitude',\n",
       " 'gt2l/land_ice_segments/longitude',\n",
       " 'gt2l/land_ice_segments/segment_id',\n",
       " 'gt2l/land_ice_segments/sigma_geo_h',\n",
       " 'gt2l/land_ice_segments/bias_correction/fpb_mean_corr',\n",
       " 'gt2l/land_ice_segments/bias_correction/fpb_mean_corr_sigma',\n",
       " 'gt2l/land_ice_segments/bias_correction/fpb_med_corr',\n",
       " 'gt2l/land_ice_segments/bias_correction/fpb_med_corr_sigma',\n",
       " 'gt2l/land_ice_segments/bias_correction/fpb_n_corr',\n",
       " 'gt2l/land_ice_segments/bias_correction/med_r_fit',\n",
       " 'gt2l/land_ice_segments/bias_correction/tx_mean_corr',\n",
       " 'gt2l/land_ice_segments/bias_correction/tx_med_corr',\n",
       " 'gt2l/land_ice_segments/dem/dem_flag',\n",
       " 'gt2l/land_ice_segments/dem/dem_h',\n",
       " 'gt2l/land_ice_segments/dem/geoid_free2mean',\n",
       " 'gt2l/land_ice_segments/dem/geoid_h',\n",
       " 'gt2l/land_ice_segments/fit_statistics/dh_fit_dx',\n",
       " 'gt2l/land_ice_segments/fit_statistics/dh_fit_dx_sigma',\n",
       " 'gt2l/land_ice_segments/fit_statistics/dh_fit_dy',\n",
       " 'gt2l/land_ice_segments/fit_statistics/h_expected_rms',\n",
       " 'gt2l/land_ice_segments/fit_statistics/h_mean',\n",
       " 'gt2l/land_ice_segments/fit_statistics/h_rms_misfit',\n",
       " 'gt2l/land_ice_segments/fit_statistics/h_robust_sprd',\n",
       " 'gt2l/land_ice_segments/fit_statistics/n_fit_photons',\n",
       " 'gt2l/land_ice_segments/fit_statistics/n_seg_pulses',\n",
       " 'gt2l/land_ice_segments/fit_statistics/sigma_h_mean',\n",
       " 'gt2l/land_ice_segments/fit_statistics/signal_selection_source',\n",
       " 'gt2l/land_ice_segments/fit_statistics/signal_selection_source_status',\n",
       " 'gt2l/land_ice_segments/fit_statistics/snr',\n",
       " 'gt2l/land_ice_segments/fit_statistics/snr_significance',\n",
       " 'gt2l/land_ice_segments/fit_statistics/w_surface_window_final',\n",
       " 'gt2l/land_ice_segments/geophysical/bckgrd',\n",
       " 'gt2l/land_ice_segments/geophysical/bsnow_conf',\n",
       " 'gt2l/land_ice_segments/geophysical/bsnow_h',\n",
       " 'gt2l/land_ice_segments/geophysical/bsnow_od',\n",
       " 'gt2l/land_ice_segments/geophysical/cloud_flg_asr',\n",
       " 'gt2l/land_ice_segments/geophysical/cloud_flg_atm',\n",
       " 'gt2l/land_ice_segments/geophysical/dac',\n",
       " 'gt2l/land_ice_segments/geophysical/e_bckgrd',\n",
       " 'gt2l/land_ice_segments/geophysical/layer_flag',\n",
       " 'gt2l/land_ice_segments/geophysical/msw_flag',\n",
       " 'gt2l/land_ice_segments/geophysical/neutat_delay_total',\n",
       " 'gt2l/land_ice_segments/geophysical/r_eff',\n",
       " 'gt2l/land_ice_segments/geophysical/solar_azimuth',\n",
       " 'gt2l/land_ice_segments/geophysical/solar_elevation',\n",
       " 'gt2l/land_ice_segments/geophysical/tide_earth',\n",
       " 'gt2l/land_ice_segments/geophysical/tide_earth_free2mean',\n",
       " 'gt2l/land_ice_segments/geophysical/tide_equilibrium',\n",
       " 'gt2l/land_ice_segments/geophysical/tide_load',\n",
       " 'gt2l/land_ice_segments/geophysical/tide_ocean',\n",
       " 'gt2l/land_ice_segments/geophysical/tide_pole',\n",
       " 'gt2l/land_ice_segments/ground_track/ref_azimuth',\n",
       " 'gt2l/land_ice_segments/ground_track/ref_coelv',\n",
       " 'gt2l/land_ice_segments/ground_track/seg_azimuth',\n",
       " 'gt2l/land_ice_segments/ground_track/sigma_geo_at',\n",
       " 'gt2l/land_ice_segments/ground_track/sigma_geo_r',\n",
       " 'gt2l/land_ice_segments/ground_track/sigma_geo_xt',\n",
       " 'gt2l/land_ice_segments/ground_track/x_atc',\n",
       " 'gt2l/land_ice_segments/ground_track/y_atc',\n",
       " 'gt2l/residual_histogram/bckgrd_per_m',\n",
       " 'gt2l/residual_histogram/bin_top_h',\n",
       " 'gt2l/residual_histogram/count',\n",
       " 'gt2l/residual_histogram/delta_time',\n",
       " 'gt2l/residual_histogram/ds_segment_id',\n",
       " 'gt2l/residual_histogram/lat_mean',\n",
       " 'gt2l/residual_histogram/lon_mean',\n",
       " 'gt2l/residual_histogram/pulse_count',\n",
       " 'gt2l/residual_histogram/segment_id_list',\n",
       " 'gt2l/residual_histogram/x_atc_mean',\n",
       " 'gt2l/segment_quality/delta_time',\n",
       " 'gt2l/segment_quality/record_number',\n",
       " 'gt2l/segment_quality/reference_pt_lat',\n",
       " 'gt2l/segment_quality/reference_pt_lon',\n",
       " 'gt2l/segment_quality/segment_id',\n",
       " 'gt2l/segment_quality/signal_selection_source',\n",
       " 'gt2l/segment_quality/signal_selection_status/signal_selection_status_all',\n",
       " 'gt2l/segment_quality/signal_selection_status/signal_selection_status_backup',\n",
       " 'gt2l/segment_quality/signal_selection_status/signal_selection_status_confident',\n",
       " 'gt2r/land_ice_segments/atl06_quality_summary',\n",
       " 'gt2r/land_ice_segments/delta_time',\n",
       " 'gt2r/land_ice_segments/h_li',\n",
       " 'gt2r/land_ice_segments/h_li_sigma',\n",
       " 'gt2r/land_ice_segments/latitude',\n",
       " 'gt2r/land_ice_segments/longitude',\n",
       " 'gt2r/land_ice_segments/segment_id',\n",
       " 'gt2r/land_ice_segments/sigma_geo_h',\n",
       " 'gt2r/land_ice_segments/bias_correction/fpb_mean_corr',\n",
       " 'gt2r/land_ice_segments/bias_correction/fpb_mean_corr_sigma',\n",
       " 'gt2r/land_ice_segments/bias_correction/fpb_med_corr',\n",
       " 'gt2r/land_ice_segments/bias_correction/fpb_med_corr_sigma',\n",
       " 'gt2r/land_ice_segments/bias_correction/fpb_n_corr',\n",
       " 'gt2r/land_ice_segments/bias_correction/med_r_fit',\n",
       " 'gt2r/land_ice_segments/bias_correction/tx_mean_corr',\n",
       " 'gt2r/land_ice_segments/bias_correction/tx_med_corr',\n",
       " 'gt2r/land_ice_segments/dem/dem_flag',\n",
       " 'gt2r/land_ice_segments/dem/dem_h',\n",
       " 'gt2r/land_ice_segments/dem/geoid_free2mean',\n",
       " 'gt2r/land_ice_segments/dem/geoid_h',\n",
       " 'gt2r/land_ice_segments/fit_statistics/dh_fit_dx',\n",
       " 'gt2r/land_ice_segments/fit_statistics/dh_fit_dx_sigma',\n",
       " 'gt2r/land_ice_segments/fit_statistics/dh_fit_dy',\n",
       " 'gt2r/land_ice_segments/fit_statistics/h_expected_rms',\n",
       " 'gt2r/land_ice_segments/fit_statistics/h_mean',\n",
       " 'gt2r/land_ice_segments/fit_statistics/h_rms_misfit',\n",
       " 'gt2r/land_ice_segments/fit_statistics/h_robust_sprd',\n",
       " 'gt2r/land_ice_segments/fit_statistics/n_fit_photons',\n",
       " 'gt2r/land_ice_segments/fit_statistics/n_seg_pulses',\n",
       " 'gt2r/land_ice_segments/fit_statistics/sigma_h_mean',\n",
       " 'gt2r/land_ice_segments/fit_statistics/signal_selection_source',\n",
       " 'gt2r/land_ice_segments/fit_statistics/signal_selection_source_status',\n",
       " 'gt2r/land_ice_segments/fit_statistics/snr',\n",
       " 'gt2r/land_ice_segments/fit_statistics/snr_significance',\n",
       " 'gt2r/land_ice_segments/fit_statistics/w_surface_window_final',\n",
       " 'gt2r/land_ice_segments/geophysical/bckgrd',\n",
       " 'gt2r/land_ice_segments/geophysical/bsnow_conf',\n",
       " 'gt2r/land_ice_segments/geophysical/bsnow_h',\n",
       " 'gt2r/land_ice_segments/geophysical/bsnow_od',\n",
       " 'gt2r/land_ice_segments/geophysical/cloud_flg_asr',\n",
       " 'gt2r/land_ice_segments/geophysical/cloud_flg_atm',\n",
       " 'gt2r/land_ice_segments/geophysical/dac',\n",
       " 'gt2r/land_ice_segments/geophysical/e_bckgrd',\n",
       " 'gt2r/land_ice_segments/geophysical/layer_flag',\n",
       " 'gt2r/land_ice_segments/geophysical/msw_flag',\n",
       " 'gt2r/land_ice_segments/geophysical/neutat_delay_total',\n",
       " 'gt2r/land_ice_segments/geophysical/r_eff',\n",
       " 'gt2r/land_ice_segments/geophysical/solar_azimuth',\n",
       " 'gt2r/land_ice_segments/geophysical/solar_elevation',\n",
       " 'gt2r/land_ice_segments/geophysical/tide_earth',\n",
       " 'gt2r/land_ice_segments/geophysical/tide_earth_free2mean',\n",
       " 'gt2r/land_ice_segments/geophysical/tide_equilibrium',\n",
       " 'gt2r/land_ice_segments/geophysical/tide_load',\n",
       " 'gt2r/land_ice_segments/geophysical/tide_ocean',\n",
       " 'gt2r/land_ice_segments/geophysical/tide_pole',\n",
       " 'gt2r/land_ice_segments/ground_track/ref_azimuth',\n",
       " 'gt2r/land_ice_segments/ground_track/ref_coelv',\n",
       " 'gt2r/land_ice_segments/ground_track/seg_azimuth',\n",
       " 'gt2r/land_ice_segments/ground_track/sigma_geo_at',\n",
       " 'gt2r/land_ice_segments/ground_track/sigma_geo_r',\n",
       " 'gt2r/land_ice_segments/ground_track/sigma_geo_xt',\n",
       " 'gt2r/land_ice_segments/ground_track/x_atc',\n",
       " 'gt2r/land_ice_segments/ground_track/y_atc',\n",
       " 'gt2r/residual_histogram/bckgrd_per_m',\n",
       " 'gt2r/residual_histogram/bin_top_h',\n",
       " 'gt2r/residual_histogram/count',\n",
       " 'gt2r/residual_histogram/delta_time',\n",
       " 'gt2r/residual_histogram/ds_segment_id',\n",
       " 'gt2r/residual_histogram/lat_mean',\n",
       " 'gt2r/residual_histogram/lon_mean',\n",
       " 'gt2r/residual_histogram/pulse_count',\n",
       " 'gt2r/residual_histogram/segment_id_list',\n",
       " 'gt2r/residual_histogram/x_atc_mean',\n",
       " 'gt2r/segment_quality/delta_time',\n",
       " 'gt2r/segment_quality/record_number',\n",
       " 'gt2r/segment_quality/reference_pt_lat',\n",
       " 'gt2r/segment_quality/reference_pt_lon',\n",
       " 'gt2r/segment_quality/segment_id',\n",
       " 'gt2r/segment_quality/signal_selection_source',\n",
       " 'gt2r/segment_quality/signal_selection_status/signal_selection_status_all',\n",
       " 'gt2r/segment_quality/signal_selection_status/signal_selection_status_backup',\n",
       " 'gt2r/segment_quality/signal_selection_status/signal_selection_status_confident',\n",
       " 'gt3l/land_ice_segments/atl06_quality_summary',\n",
       " 'gt3l/land_ice_segments/delta_time',\n",
       " 'gt3l/land_ice_segments/h_li',\n",
       " 'gt3l/land_ice_segments/h_li_sigma',\n",
       " 'gt3l/land_ice_segments/latitude',\n",
       " 'gt3l/land_ice_segments/longitude',\n",
       " 'gt3l/land_ice_segments/segment_id',\n",
       " 'gt3l/land_ice_segments/sigma_geo_h',\n",
       " 'gt3l/land_ice_segments/bias_correction/fpb_mean_corr',\n",
       " 'gt3l/land_ice_segments/bias_correction/fpb_mean_corr_sigma',\n",
       " 'gt3l/land_ice_segments/bias_correction/fpb_med_corr',\n",
       " 'gt3l/land_ice_segments/bias_correction/fpb_med_corr_sigma',\n",
       " 'gt3l/land_ice_segments/bias_correction/fpb_n_corr',\n",
       " 'gt3l/land_ice_segments/bias_correction/med_r_fit',\n",
       " 'gt3l/land_ice_segments/bias_correction/tx_mean_corr',\n",
       " 'gt3l/land_ice_segments/bias_correction/tx_med_corr',\n",
       " 'gt3l/land_ice_segments/dem/dem_flag',\n",
       " 'gt3l/land_ice_segments/dem/dem_h',\n",
       " 'gt3l/land_ice_segments/dem/geoid_free2mean',\n",
       " 'gt3l/land_ice_segments/dem/geoid_h',\n",
       " 'gt3l/land_ice_segments/fit_statistics/dh_fit_dx',\n",
       " 'gt3l/land_ice_segments/fit_statistics/dh_fit_dx_sigma',\n",
       " 'gt3l/land_ice_segments/fit_statistics/dh_fit_dy',\n",
       " 'gt3l/land_ice_segments/fit_statistics/h_expected_rms',\n",
       " 'gt3l/land_ice_segments/fit_statistics/h_mean',\n",
       " 'gt3l/land_ice_segments/fit_statistics/h_rms_misfit',\n",
       " 'gt3l/land_ice_segments/fit_statistics/h_robust_sprd',\n",
       " 'gt3l/land_ice_segments/fit_statistics/n_fit_photons',\n",
       " 'gt3l/land_ice_segments/fit_statistics/n_seg_pulses',\n",
       " 'gt3l/land_ice_segments/fit_statistics/sigma_h_mean',\n",
       " 'gt3l/land_ice_segments/fit_statistics/signal_selection_source',\n",
       " 'gt3l/land_ice_segments/fit_statistics/signal_selection_source_status',\n",
       " 'gt3l/land_ice_segments/fit_statistics/snr',\n",
       " 'gt3l/land_ice_segments/fit_statistics/snr_significance',\n",
       " 'gt3l/land_ice_segments/fit_statistics/w_surface_window_final',\n",
       " 'gt3l/land_ice_segments/geophysical/bckgrd',\n",
       " 'gt3l/land_ice_segments/geophysical/bsnow_conf',\n",
       " 'gt3l/land_ice_segments/geophysical/bsnow_h',\n",
       " 'gt3l/land_ice_segments/geophysical/bsnow_od',\n",
       " 'gt3l/land_ice_segments/geophysical/cloud_flg_asr',\n",
       " 'gt3l/land_ice_segments/geophysical/cloud_flg_atm',\n",
       " 'gt3l/land_ice_segments/geophysical/dac',\n",
       " 'gt3l/land_ice_segments/geophysical/e_bckgrd',\n",
       " 'gt3l/land_ice_segments/geophysical/layer_flag',\n",
       " 'gt3l/land_ice_segments/geophysical/msw_flag',\n",
       " 'gt3l/land_ice_segments/geophysical/neutat_delay_total',\n",
       " 'gt3l/land_ice_segments/geophysical/r_eff',\n",
       " 'gt3l/land_ice_segments/geophysical/solar_azimuth',\n",
       " 'gt3l/land_ice_segments/geophysical/solar_elevation',\n",
       " 'gt3l/land_ice_segments/geophysical/tide_earth',\n",
       " 'gt3l/land_ice_segments/geophysical/tide_earth_free2mean',\n",
       " 'gt3l/land_ice_segments/geophysical/tide_equilibrium',\n",
       " 'gt3l/land_ice_segments/geophysical/tide_load',\n",
       " 'gt3l/land_ice_segments/geophysical/tide_ocean',\n",
       " 'gt3l/land_ice_segments/geophysical/tide_pole',\n",
       " 'gt3l/land_ice_segments/ground_track/ref_azimuth',\n",
       " 'gt3l/land_ice_segments/ground_track/ref_coelv',\n",
       " 'gt3l/land_ice_segments/ground_track/seg_azimuth',\n",
       " 'gt3l/land_ice_segments/ground_track/sigma_geo_at',\n",
       " 'gt3l/land_ice_segments/ground_track/sigma_geo_r',\n",
       " 'gt3l/land_ice_segments/ground_track/sigma_geo_xt',\n",
       " 'gt3l/land_ice_segments/ground_track/x_atc',\n",
       " 'gt3l/land_ice_segments/ground_track/y_atc',\n",
       " 'gt3l/residual_histogram/bckgrd_per_m',\n",
       " 'gt3l/residual_histogram/bin_top_h',\n",
       " 'gt3l/residual_histogram/count',\n",
       " 'gt3l/residual_histogram/delta_time',\n",
       " 'gt3l/residual_histogram/ds_segment_id',\n",
       " 'gt3l/residual_histogram/lat_mean',\n",
       " 'gt3l/residual_histogram/lon_mean',\n",
       " 'gt3l/residual_histogram/pulse_count',\n",
       " 'gt3l/residual_histogram/segment_id_list',\n",
       " 'gt3l/residual_histogram/x_atc_mean',\n",
       " 'gt3l/segment_quality/delta_time',\n",
       " 'gt3l/segment_quality/record_number',\n",
       " 'gt3l/segment_quality/reference_pt_lat',\n",
       " 'gt3l/segment_quality/reference_pt_lon',\n",
       " 'gt3l/segment_quality/segment_id',\n",
       " 'gt3l/segment_quality/signal_selection_source',\n",
       " 'gt3l/segment_quality/signal_selection_status/signal_selection_status_all',\n",
       " 'gt3l/segment_quality/signal_selection_status/signal_selection_status_backup',\n",
       " 'gt3l/segment_quality/signal_selection_status/signal_selection_status_confident',\n",
       " 'gt3r/land_ice_segments/atl06_quality_summary',\n",
       " 'gt3r/land_ice_segments/delta_time',\n",
       " 'gt3r/land_ice_segments/h_li',\n",
       " 'gt3r/land_ice_segments/h_li_sigma',\n",
       " 'gt3r/land_ice_segments/latitude',\n",
       " 'gt3r/land_ice_segments/longitude',\n",
       " 'gt3r/land_ice_segments/segment_id',\n",
       " 'gt3r/land_ice_segments/sigma_geo_h',\n",
       " 'gt3r/land_ice_segments/bias_correction/fpb_mean_corr',\n",
       " 'gt3r/land_ice_segments/bias_correction/fpb_mean_corr_sigma',\n",
       " 'gt3r/land_ice_segments/bias_correction/fpb_med_corr',\n",
       " 'gt3r/land_ice_segments/bias_correction/fpb_med_corr_sigma',\n",
       " 'gt3r/land_ice_segments/bias_correction/fpb_n_corr',\n",
       " 'gt3r/land_ice_segments/bias_correction/med_r_fit',\n",
       " 'gt3r/land_ice_segments/bias_correction/tx_mean_corr',\n",
       " 'gt3r/land_ice_segments/bias_correction/tx_med_corr',\n",
       " 'gt3r/land_ice_segments/dem/dem_flag',\n",
       " 'gt3r/land_ice_segments/dem/dem_h',\n",
       " 'gt3r/land_ice_segments/dem/geoid_free2mean',\n",
       " 'gt3r/land_ice_segments/dem/geoid_h',\n",
       " 'gt3r/land_ice_segments/fit_statistics/dh_fit_dx',\n",
       " 'gt3r/land_ice_segments/fit_statistics/dh_fit_dx_sigma',\n",
       " 'gt3r/land_ice_segments/fit_statistics/dh_fit_dy',\n",
       " 'gt3r/land_ice_segments/fit_statistics/h_expected_rms',\n",
       " 'gt3r/land_ice_segments/fit_statistics/h_mean',\n",
       " 'gt3r/land_ice_segments/fit_statistics/h_rms_misfit',\n",
       " 'gt3r/land_ice_segments/fit_statistics/h_robust_sprd',\n",
       " 'gt3r/land_ice_segments/fit_statistics/n_fit_photons',\n",
       " 'gt3r/land_ice_segments/fit_statistics/n_seg_pulses',\n",
       " 'gt3r/land_ice_segments/fit_statistics/sigma_h_mean',\n",
       " 'gt3r/land_ice_segments/fit_statistics/signal_selection_source',\n",
       " 'gt3r/land_ice_segments/fit_statistics/signal_selection_source_status',\n",
       " 'gt3r/land_ice_segments/fit_statistics/snr',\n",
       " 'gt3r/land_ice_segments/fit_statistics/snr_significance',\n",
       " 'gt3r/land_ice_segments/fit_statistics/w_surface_window_final',\n",
       " 'gt3r/land_ice_segments/geophysical/bckgrd',\n",
       " 'gt3r/land_ice_segments/geophysical/bsnow_conf',\n",
       " 'gt3r/land_ice_segments/geophysical/bsnow_h',\n",
       " 'gt3r/land_ice_segments/geophysical/bsnow_od',\n",
       " 'gt3r/land_ice_segments/geophysical/cloud_flg_asr',\n",
       " 'gt3r/land_ice_segments/geophysical/cloud_flg_atm',\n",
       " 'gt3r/land_ice_segments/geophysical/dac',\n",
       " 'gt3r/land_ice_segments/geophysical/e_bckgrd',\n",
       " 'gt3r/land_ice_segments/geophysical/layer_flag',\n",
       " 'gt3r/land_ice_segments/geophysical/msw_flag',\n",
       " 'gt3r/land_ice_segments/geophysical/neutat_delay_total',\n",
       " 'gt3r/land_ice_segments/geophysical/r_eff',\n",
       " 'gt3r/land_ice_segments/geophysical/solar_azimuth',\n",
       " 'gt3r/land_ice_segments/geophysical/solar_elevation',\n",
       " 'gt3r/land_ice_segments/geophysical/tide_earth',\n",
       " 'gt3r/land_ice_segments/geophysical/tide_earth_free2mean',\n",
       " 'gt3r/land_ice_segments/geophysical/tide_equilibrium',\n",
       " 'gt3r/land_ice_segments/geophysical/tide_load',\n",
       " 'gt3r/land_ice_segments/geophysical/tide_ocean',\n",
       " 'gt3r/land_ice_segments/geophysical/tide_pole',\n",
       " 'gt3r/land_ice_segments/ground_track/ref_azimuth',\n",
       " 'gt3r/land_ice_segments/ground_track/ref_coelv',\n",
       " 'gt3r/land_ice_segments/ground_track/seg_azimuth',\n",
       " 'gt3r/land_ice_segments/ground_track/sigma_geo_at',\n",
       " 'gt3r/land_ice_segments/ground_track/sigma_geo_r',\n",
       " 'gt3r/land_ice_segments/ground_track/sigma_geo_xt',\n",
       " 'gt3r/land_ice_segments/ground_track/x_atc',\n",
       " 'gt3r/land_ice_segments/ground_track/y_atc',\n",
       " 'gt3r/residual_histogram/bckgrd_per_m',\n",
       " 'gt3r/residual_histogram/bin_top_h',\n",
       " 'gt3r/residual_histogram/count',\n",
       " 'gt3r/residual_histogram/delta_time',\n",
       " 'gt3r/residual_histogram/ds_segment_id',\n",
       " 'gt3r/residual_histogram/lat_mean',\n",
       " 'gt3r/residual_histogram/lon_mean',\n",
       " 'gt3r/residual_histogram/pulse_count',\n",
       " 'gt3r/residual_histogram/segment_id_list',\n",
       " 'gt3r/residual_histogram/x_atc_mean',\n",
       " 'gt3r/segment_quality/delta_time',\n",
       " 'gt3r/segment_quality/record_number',\n",
       " 'gt3r/segment_quality/reference_pt_lat',\n",
       " 'gt3r/segment_quality/reference_pt_lon',\n",
       " 'gt3r/segment_quality/segment_id',\n",
       " 'gt3r/segment_quality/signal_selection_source',\n",
       " 'gt3r/segment_quality/signal_selection_status/signal_selection_status_all',\n",
       " 'gt3r/segment_quality/signal_selection_status/signal_selection_status_backup',\n",
       " 'gt3r/segment_quality/signal_selection_status/signal_selection_status_confident',\n",
       " 'orbit_info/crossing_time',\n",
       " 'orbit_info/cycle_number',\n",
       " 'orbit_info/lan',\n",
       " 'orbit_info/orbit_number',\n",
       " 'orbit_info/rgt',\n",
       " 'orbit_info/sc_orient',\n",
       " 'orbit_info/sc_orient_time',\n",
       " 'quality_assessment/qa_granule_fail_reason',\n",
       " 'quality_assessment/qa_granule_pass_fail',\n",
       " 'quality_assessment/gt1l/delta_time',\n",
       " 'quality_assessment/gt1l/lat_mean',\n",
       " 'quality_assessment/gt1l/lon_mean',\n",
       " 'quality_assessment/gt1l/signal_selection_source_fraction_0',\n",
       " 'quality_assessment/gt1l/signal_selection_source_fraction_1',\n",
       " 'quality_assessment/gt1l/signal_selection_source_fraction_2',\n",
       " 'quality_assessment/gt1l/signal_selection_source_fraction_3',\n",
       " 'quality_assessment/gt1r/delta_time',\n",
       " 'quality_assessment/gt1r/lat_mean',\n",
       " 'quality_assessment/gt1r/lon_mean',\n",
       " 'quality_assessment/gt1r/signal_selection_source_fraction_0',\n",
       " 'quality_assessment/gt1r/signal_selection_source_fraction_1',\n",
       " 'quality_assessment/gt1r/signal_selection_source_fraction_2',\n",
       " 'quality_assessment/gt1r/signal_selection_source_fraction_3',\n",
       " 'quality_assessment/gt2l/delta_time',\n",
       " 'quality_assessment/gt2l/lat_mean',\n",
       " 'quality_assessment/gt2l/lon_mean',\n",
       " 'quality_assessment/gt2l/signal_selection_source_fraction_0',\n",
       " 'quality_assessment/gt2l/signal_selection_source_fraction_1',\n",
       " 'quality_assessment/gt2l/signal_selection_source_fraction_2',\n",
       " 'quality_assessment/gt2l/signal_selection_source_fraction_3',\n",
       " 'quality_assessment/gt2r/delta_time',\n",
       " 'quality_assessment/gt2r/lat_mean',\n",
       " 'quality_assessment/gt2r/lon_mean',\n",
       " 'quality_assessment/gt2r/signal_selection_source_fraction_0',\n",
       " 'quality_assessment/gt2r/signal_selection_source_fraction_1',\n",
       " 'quality_assessment/gt2r/signal_selection_source_fraction_2',\n",
       " 'quality_assessment/gt2r/signal_selection_source_fraction_3',\n",
       " 'quality_assessment/gt3l/delta_time',\n",
       " 'quality_assessment/gt3l/lat_mean',\n",
       " 'quality_assessment/gt3l/lon_mean',\n",
       " 'quality_assessment/gt3l/signal_selection_source_fraction_0',\n",
       " 'quality_assessment/gt3l/signal_selection_source_fraction_1',\n",
       " 'quality_assessment/gt3l/signal_selection_source_fraction_2',\n",
       " 'quality_assessment/gt3l/signal_selection_source_fraction_3',\n",
       " 'quality_assessment/gt3r/delta_time',\n",
       " 'quality_assessment/gt3r/lat_mean',\n",
       " 'quality_assessment/gt3r/lon_mean',\n",
       " 'quality_assessment/gt3r/signal_selection_source_fraction_0',\n",
       " 'quality_assessment/gt3r/signal_selection_source_fraction_1',\n",
       " 'quality_assessment/gt3r/signal_selection_source_fraction_2',\n",
       " 'quality_assessment/gt3r/signal_selection_source_fraction_3']"
      ]
     },
     "execution_count": 15,
     "metadata": {},
     "output_type": "execute_result"
    }
   ],
   "source": [
    "region_a.order_vars.avail()"
   ]
  },
  {
   "cell_type": "markdown",
   "metadata": {},
   "source": [
    "To increase readability, you can use built in functions to show the 200+ variable + path combinations as a dictionary where the keys are variable names and the values are the paths to that variable.\n",
    "`region_a.order_vars.parse_var_list(region_a.order_vars.avail())` will return a dictionary of variable:paths key:value pairs."
   ]
  },
  {
   "cell_type": "code",
   "execution_count": null,
   "metadata": {},
   "outputs": [],
   "source": [
    "region_a.order_vars.parse_var_list(region_a.order_vars.avail())"
   ]
  },
  {
   "cell_type": "markdown",
   "metadata": {},
   "source": [
    "By passing the boolean `options=True` to the `avail` method, you can obtain lists of unique possible variable inputs (var_list inputs) and path subdirectory inputs (keyword_list and beam_list inputs) for your data product. These can be helpful for building your wanted variable list."
   ]
  },
  {
   "cell_type": "code",
   "execution_count": 16,
   "metadata": {},
   "outputs": [
    {
     "name": "stdout",
     "output_type": "stream",
     "text": [
      "var_list inputs: atlas_sdp_gps_epoch, control, data_end_utc, data_start_utc, end_cycle, end_delta_time, end_geoseg, end_gpssow, end_gpsweek, end_orbit, end_region, end_rgt, granule_end_utc, granule_start_utc, qa_at_interval, release, start_cycle, start_delta_time, start_geoseg, start_gpssow, start_gpsweek, start_orbit, start_region, start_rgt, version, dt_hist, fit_maxiter, fpb_maxiter, max_res_ids, min_dist, min_gain_th, min_n_pe, min_n_sel, min_signal_conf, n_hist, nhist_bins, n_sigmas, proc_interval, qs_lim_bsc, qs_lim_hrs, qs_lim_hsigma, qs_lim_msw, qs_lim_snr, qs_lim_sss, rbin_width, sigma_beam, sigma_tx, t_dead, txp_maxiter, atl06_quality_summary, delta_time, h_li, h_li_sigma, latitude, longitude, segment_id, sigma_geo_h, fpb_mean_corr, fpb_mean_corr_sigma, fpb_med_corr, fpb_med_corr_sigma, fpb_n_corr, med_r_fit, tx_mean_corr, tx_med_corr, dem_flag, dem_h, geoid_free2mean, geoid_h, dh_fit_dx, dh_fit_dx_sigma, dh_fit_dy, h_expected_rms, h_mean, h_rms_misfit, h_robust_sprd, n_fit_photons, n_seg_pulses, sigma_h_mean, signal_selection_source, signal_selection_source_status, snr, snr_significance, w_surface_window_final, bckgrd, bsnow_conf, bsnow_h, bsnow_od, cloud_flg_asr, cloud_flg_atm, dac, e_bckgrd, layer_flag, msw_flag, neutat_delay_total, r_eff, solar_azimuth, solar_elevation, tide_earth, tide_earth_free2mean, tide_equilibrium, tide_load, tide_ocean, tide_pole, ref_azimuth, ref_coelv, seg_azimuth, sigma_geo_at, sigma_geo_r, sigma_geo_xt, x_atc, y_atc, bckgrd_per_m, bin_top_h, count, ds_segment_id, lat_mean, lon_mean, pulse_count, segment_id_list, x_atc_mean, record_number, reference_pt_lat, reference_pt_lon, signal_selection_status_all, signal_selection_status_backup, signal_selection_status_confident, crossing_time, cycle_number, lan, orbit_number, rgt, sc_orient, sc_orient_time, qa_granule_fail_reason, qa_granule_pass_fail, signal_selection_source_fraction_0, signal_selection_source_fraction_1, signal_selection_source_fraction_2, signal_selection_source_fraction_3\n",
      "keyword_list and beam_list inputs: ancillary_data, bias_correction, dem, fit_statistics, geophysical, ground_track, gt1l, gt1r, gt2l, gt2r, gt3l, gt3r, land_ice, land_ice_segments, none, orbit_info, quality_assessment, residual_histogram, segment_quality, signal_selection_status\n"
     ]
    }
   ],
   "source": [
    "region_a.order_vars.avail(options=True)"
   ]
  },
  {
   "cell_type": "markdown",
   "metadata": {},
   "source": [
    "### Building your wanted variable list\n",
    "\n",
    "Now that you know which variables and path components are available, you need to build a list of the ones you'd like included.\n",
    "There are several options for generating your initial list as well as modifying it, giving the user complete control.\n",
    "\n",
    "The options for building your initial list are:\n",
    "1. Use a default list for the product (not yet fully implemented across all products. Have a default variable list for your field/product? Submit a pull request or post it as an issue on [GitHub](https://github.com/icesat2py/icepyx)!)\n",
    "2. Provide a list of variable names\n",
    "3. Provide a list of profiles/beams or other path keywords, where \"keywords\" are simply the unique subdirectory names contained in the full variable paths of the product. A full list of available keywords for the product is displayed in the error message upon entering `keyword_list=['']` into the `append` function (see below for an example) or by running `region_a.order_vars.avail(options=True)`, as above.\n",
    "\n",
    "**Note: all products have a short list of \"mandatory\" variables/paths (containing spacecraft orientation and time information needed to convert the data's `delta_time` to a readable datetime) that are automatically added to any built list. If you have any recommendations for other variables that should always be included (e.g. uncertainty information), please let us know!**\n",
    "\n",
    "Examples of using each method to build and modify your wanted variable list are below."
   ]
  },
  {
   "cell_type": "code",
   "execution_count": null,
   "metadata": {},
   "outputs": [],
   "source": [
    "region_a.order_vars.wanted"
   ]
  },
  {
   "cell_type": "code",
   "execution_count": null,
   "metadata": {},
   "outputs": [],
   "source": [
    "region_a.order_vars.append(defaults=True)\n",
    "pprint(region_a.order_vars.wanted)"
   ]
  },
  {
   "cell_type": "markdown",
   "metadata": {},
   "source": [
    "The keywords available for this product are shown in the error message upon entering a blank keyword_list, as seen in the next cell."
   ]
  },
  {
   "cell_type": "code",
   "execution_count": null,
   "metadata": {},
   "outputs": [],
   "source": [
    "region_a.order_vars.append(keyword_list=[''])"
   ]
  },
  {
   "cell_type": "markdown",
   "metadata": {},
   "source": [
    "### Modifying your wanted variable list\n",
    "\n",
    "Generating and modifying your variable request list, which is stored in `region_a.order_vars.wanted`, is controlled by the `append` and `remove` functions that operate on `region_a.order_vars.wanted`. The input options to `append` are as follows (the full documentation for this function can be found by executing `help(region_a.order_vars.append)`).\n",
    "* `defaults` (default False) - include the default variable list for your product (not yet fully implemented for all products; please submit your default variable list for inclusion!)\n",
    "* `var_list` (default None) - list of variables (entered as strings)\n",
    "* `beam_list` (default None) - list of beams/profiles (entered as strings)\n",
    "* `keyword_list` (default None) - list of keywords (entered as strings); use `keyword_list=['']` to obtain a list of available keywords\n",
    "\n",
    "Similarly, the options for `remove` are:\n",
    "* `all` (default False) - reset `region_a.order_vars.wanted` to None\n",
    "* `var_list` (as above)\n",
    "* `beam_list` (as above)\n",
    "* `keyword_list` (as above)"
   ]
  },
  {
   "cell_type": "code",
   "execution_count": null,
   "metadata": {},
   "outputs": [],
   "source": [
    "region_a.order_vars.remove(all=True)\n",
    "pprint(region_a.order_vars.wanted)"
   ]
  },
  {
   "cell_type": "markdown",
   "metadata": {},
   "source": [
    "### Examples (Overview)\n",
    "Below are a series of examples to show how you can use `append` and `remove` to modify your wanted variable list.\n",
    "For clarity, `region_a.order_vars.wanted` is cleared at the start of many examples.\n",
    "However, multiple `append` and `remove` commands can be called in succession to build your wanted variable list (see Examples 3+).\n",
    "\n",
    "There are two example tracks.\n",
    "The first is for land ice (ATL06) data that is separated into beams.\n",
    "The second is for atmospheric data (ATL09) that is separated into profiles.\n",
    "Both example tracks showcase the same functionality and are provided for users of both data types."
   ]
  },
  {
   "cell_type": "markdown",
   "metadata": {},
   "source": [
    "------------------\n",
    "### Example Track 1 (Land Ice - run with ATL06 dataset)\n",
    "\n",
    "#### Example 1: choose variables\n",
    "Add all `latitude` and `longitude` variables across all six beam groups. Note that the additional required variables for time and spacecraft orientation are included by default."
   ]
  },
  {
   "cell_type": "code",
   "execution_count": null,
   "metadata": {
    "scrolled": false
   },
   "outputs": [],
   "source": [
    "region_a.order_vars.append(var_list=['latitude','longitude'])\n",
    "pprint(region_a.order_vars.wanted)"
   ]
  },
  {
   "cell_type": "markdown",
   "metadata": {},
   "source": [
    "#### Example 2: specify beams and variable\n",
    "Add `latitude` for only `gt1l` and `gt2l`"
   ]
  },
  {
   "cell_type": "code",
   "execution_count": null,
   "metadata": {},
   "outputs": [],
   "source": [
    "region_a.order_vars.remove(all=True)\n",
    "pprint(region_a.order_vars.wanted)"
   ]
  },
  {
   "cell_type": "code",
   "execution_count": null,
   "metadata": {},
   "outputs": [],
   "source": [
    "var_dict = region_a.order_vars.append(beam_list=['gt1l', 'gt2l'], var_list=['latitude'])\n",
    "pprint(region_a.order_vars.wanted)"
   ]
  },
  {
   "cell_type": "markdown",
   "metadata": {},
   "source": [
    "#### Example 3: add/remove selected beams+variables\n",
    "Add `latitude` for `gt3l` and remove it for `gt2l`"
   ]
  },
  {
   "cell_type": "code",
   "execution_count": null,
   "metadata": {},
   "outputs": [],
   "source": [
    "region_a.order_vars.append(beam_list=['gt3l'],var_list=['latitude'])\n",
    "region_a.order_vars.remove(beam_list=['gt2l'], var_list=['latitude'])\n",
    "pprint(region_a.order_vars.wanted)"
   ]
  },
  {
   "cell_type": "markdown",
   "metadata": {},
   "source": [
    "#### Example 4: `keyword_list`\n",
    "Add `latitude` and `longitude` for all beams and with keyword `land_ice_segments`"
   ]
  },
  {
   "cell_type": "code",
   "execution_count": null,
   "metadata": {},
   "outputs": [],
   "source": [
    "region_a.order_vars.append(var_list=['latitude', 'longitude'],keyword_list=['land_ice_segments'])\n",
    "pprint(region_a.order_vars.wanted)"
   ]
  },
  {
   "cell_type": "markdown",
   "metadata": {},
   "source": [
    "#### Example 5: target a specific variable + path\n",
    "Remove `gt1r/land_ice_segments/longitude` (but keep `gt1r/land_ice_segments/latitude`)"
   ]
  },
  {
   "cell_type": "code",
   "execution_count": null,
   "metadata": {},
   "outputs": [],
   "source": [
    "region_a.order_vars.remove(beam_list=['gt1r'], var_list=['longitude'], keyword_list=['land_ice_segments'])\n",
    "pprint(region_a.order_vars.wanted)"
   ]
  },
  {
   "cell_type": "markdown",
   "metadata": {},
   "source": [
    "#### Example 6: add variables not specific to beams/profiles\n",
    "Add `rgt` under `orbit_info`."
   ]
  },
  {
   "cell_type": "code",
   "execution_count": null,
   "metadata": {},
   "outputs": [],
   "source": [
    "region_a.order_vars.append(keyword_list=['orbit_info'],var_list=['rgt'])\n",
    "pprint(region_a.order_vars.wanted)"
   ]
  },
  {
   "cell_type": "markdown",
   "metadata": {},
   "source": [
    "#### Example 7: add all variables+paths of a group\n",
    "In addition to adding specific variables and paths, we can filter all variables with a specific keyword as well. Here, we add all variables under `orbit_info`. Note that paths already in `region_a.order_vars.wanted`, such as `'orbit_info/rgt'`, are not duplicated."
   ]
  },
  {
   "cell_type": "code",
   "execution_count": null,
   "metadata": {},
   "outputs": [],
   "source": [
    "region_a.order_vars.append(keyword_list=['orbit_info'])\n",
    "pprint(region_a.order_vars.wanted)"
   ]
  },
  {
   "cell_type": "markdown",
   "metadata": {},
   "source": [
    "#### Example 8: add all possible values for variables+paths\n",
    "Append all `longitude` paths and all variables/paths with keyword `land_ice_segments`.\n",
    "\n",
    "Similarly to what is shown in Example 4, if you submit only one `append` call as `region_a.order_vars.append(var_list=['longitude'], keyword_list=['land_ice_segments'])` rather than the two `append` calls shown below, you will only add the variable `longitude` and only paths containing `land_ice_segments`, not ALL paths for `longitude` and ANY variables with `land_ice_segments` in their path."
   ]
  },
  {
   "cell_type": "code",
   "execution_count": null,
   "metadata": {
    "scrolled": true
   },
   "outputs": [],
   "source": [
    "region_a.order_vars.append(var_list=['longitude'])\n",
    "region_a.order_vars.append(keyword_list=['land_ice_segments'])\n",
    "pprint(region_a.order_vars.wanted)"
   ]
  },
  {
   "cell_type": "markdown",
   "metadata": {},
   "source": [
    "#### Example 9: remove all variables+paths associated with a beam\n",
    "Remove all paths for `gt1l` and `gt3r`"
   ]
  },
  {
   "cell_type": "code",
   "execution_count": null,
   "metadata": {
    "scrolled": true
   },
   "outputs": [],
   "source": [
    "region_a.order_vars.remove(beam_list=['gt1l','gt3r'])\n",
    "pprint(region_a.order_vars.wanted)"
   ]
  },
  {
   "cell_type": "markdown",
   "metadata": {},
   "source": [
    "#### Example 10: generate a default list for the rest of the tutorial\n",
    "Generate a reasonable variable list prior to download"
   ]
  },
  {
   "cell_type": "code",
   "execution_count": null,
   "metadata": {
    "scrolled": true
   },
   "outputs": [],
   "source": [
    "region_a.order_vars.remove(all=True)\n",
    "region_a.order_vars.append(defaults=True)\n",
    "pprint(region_a.order_vars.wanted)"
   ]
  },
  {
   "cell_type": "markdown",
   "metadata": {},
   "source": [
    "------------------\n",
    "### Example Track 2 (Atmosphere - run with ATL09 dataset commented out at the start of the notebook)\n",
    "\n",
    "#### Example 1: choose variables\n",
    "Add all `latitude` and `longitude` variables"
   ]
  },
  {
   "cell_type": "code",
   "execution_count": null,
   "metadata": {},
   "outputs": [],
   "source": [
    "region_a.order_vars.append(var_list=['latitude','longitude'])\n",
    "pprint(region_a.order_vars.wanted)"
   ]
  },
  {
   "cell_type": "markdown",
   "metadata": {},
   "source": [
    "#### Example 2: specify beams/profiles and variable\n",
    "Add `latitude` for only `profile_1` and `profile_2`"
   ]
  },
  {
   "cell_type": "code",
   "execution_count": null,
   "metadata": {},
   "outputs": [],
   "source": [
    "region_a.order_vars.remove(all=True)\n",
    "pprint(region_a.order_vars.wanted)"
   ]
  },
  {
   "cell_type": "code",
   "execution_count": null,
   "metadata": {},
   "outputs": [],
   "source": [
    "var_dict = region_a.order_vars.append(beam_list=['profile_1','profile_2'], var_list=['latitude'])\n",
    "pprint(region_a.order_vars.wanted)"
   ]
  },
  {
   "cell_type": "markdown",
   "metadata": {},
   "source": [
    "#### Example 3: add/remove selected beams+variables\n",
    "Add `latitude` for `profile_3` and remove it for `profile_2`"
   ]
  },
  {
   "cell_type": "code",
   "execution_count": null,
   "metadata": {},
   "outputs": [],
   "source": [
    "region_a.order_vars.append(beam_list=['profile_3'],var_list=['latitude'])\n",
    "region_a.order_vars.remove(beam_list=['profile_2'], var_list=['latitude'])\n",
    "pprint(region_a.order_vars.wanted)"
   ]
  },
  {
   "cell_type": "markdown",
   "metadata": {},
   "source": [
    "#### Example 4: `keyword_list`\n",
    "Add `latitude` for all profiles and with keyword `low_rate`"
   ]
  },
  {
   "cell_type": "code",
   "execution_count": null,
   "metadata": {},
   "outputs": [],
   "source": [
    "region_a.order_vars.append(var_list=['latitude'],keyword_list=['low_rate'])\n",
    "pprint(region_a.order_vars.wanted)"
   ]
  },
  {
   "cell_type": "markdown",
   "metadata": {},
   "source": [
    "#### Example 5: target a specific variable + path\n",
    "Remove `'profile_1/high_rate/latitude'` (but keep `'profile_3/high_rate/latitude'`)"
   ]
  },
  {
   "cell_type": "code",
   "execution_count": null,
   "metadata": {},
   "outputs": [],
   "source": [
    "region_a.order_vars.remove(beam_list=['profile_1'], var_list=['latitude'], keyword_list=['high_rate'])\n",
    "pprint(region_a.order_vars.wanted)"
   ]
  },
  {
   "cell_type": "markdown",
   "metadata": {},
   "source": [
    "#### Example 6: add variables not specific to beams/profiles\n",
    "Add `rgt` under `orbit_info`."
   ]
  },
  {
   "cell_type": "code",
   "execution_count": null,
   "metadata": {},
   "outputs": [],
   "source": [
    "region_a.order_vars.append(keyword_list=['orbit_info'],var_list=['rgt'])\n",
    "pprint(region_a.order_vars.wanted)"
   ]
  },
  {
   "cell_type": "markdown",
   "metadata": {},
   "source": [
    "#### Example 7: add all variables+paths of a group\n",
    "In addition to adding specific variables and paths, we can filter all variables with a specific keyword as well. Here, we add all variables under `orbit_info`. Note that paths already in `region_a.order_vars.wanted`, such as `'orbit_info/rgt'`, are not duplicated."
   ]
  },
  {
   "cell_type": "code",
   "execution_count": null,
   "metadata": {},
   "outputs": [],
   "source": [
    "region_a.order_vars.append(keyword_list=['orbit_info'])\n",
    "pprint(region_a.order_vars.wanted)"
   ]
  },
  {
   "cell_type": "markdown",
   "metadata": {},
   "source": [
    "#### Example 8: add all possible values for variables+paths\n",
    "Append all `longitude` paths and all variables/paths with keyword `high_rate`.\n",
    "Simlarly to what is shown in Example 4, if you submit only one `append` call as `region_a.order_vars.append(var_list=['longitude'], keyword_list=['high_rate'])` rather than the two `append` calls shown below, you will only add the variable `longitude` and only paths containing `high_rate`, not ALL paths for `longitude` and ANY variables with `high_rate` in their path."
   ]
  },
  {
   "cell_type": "code",
   "execution_count": null,
   "metadata": {},
   "outputs": [],
   "source": [
    "region_a.order_vars.append(var_list=['longitude'])\n",
    "region_a.order_vars.append(keyword_list=['high_rate'])\n",
    "pprint(region_a.order_vars.wanted)"
   ]
  },
  {
   "cell_type": "markdown",
   "metadata": {},
   "source": [
    "#### Example 9: remove all variables+paths associated with a profile\n",
    "Remove all paths for `profile_1` and `profile_3`"
   ]
  },
  {
   "cell_type": "code",
   "execution_count": null,
   "metadata": {},
   "outputs": [],
   "source": [
    "region_a.order_vars.remove(beam_list=['profile_1','profile_3'])\n",
    "pprint(region_a.order_vars.wanted)"
   ]
  },
  {
   "cell_type": "markdown",
   "metadata": {},
   "source": [
    "#### Example 10: generate a default list for the rest of the tutorial\n",
    "Generate a reasonable variable list prior to download"
   ]
  },
  {
   "cell_type": "code",
   "execution_count": null,
   "metadata": {},
   "outputs": [],
   "source": [
    "region_a.order_vars.remove(all=True)\n",
    "region_a.order_vars.append(defaults=True)\n",
    "pprint(region_a.order_vars.wanted)"
   ]
  },
  {
   "cell_type": "markdown",
   "metadata": {},
   "source": [
    "## Using your wanted variable list\n",
    "\n",
    "Now that you have your wanted variables list, you need to use it within your icepyx object (`Query` or `Read`) will automatically use it. "
   ]
  },
  {
   "cell_type": "markdown",
   "metadata": {},
   "source": [
    "#### With a `Query` object\n",
    "In order to have your wanted variable list included with your order, you must pass it as a keyword argument to the `subsetparams()` attribute or the `order_granules()` or `download_granules()` (which calls `order_granules` under the hood if you have not already placed your order) functions."
   ]
  },
  {
   "cell_type": "code",
   "execution_count": null,
   "metadata": {},
   "outputs": [],
   "source": [
    "region_a.subsetparams(Coverage=region_a.order_vars.wanted)"
   ]
  },
  {
   "cell_type": "markdown",
   "metadata": {},
   "source": [
    "Or, you can put the `Coverage` parameter directly into `order_granules`:\n",
    "`region_a.order_granules(Coverage=region_a.order_vars.wanted)`\n",
    "\n",
    "However, then you cannot view your subset parameters (`region_a.subsetparams`) prior to submitting your order."
   ]
  },
  {
   "cell_type": "code",
   "execution_count": null,
   "metadata": {},
   "outputs": [],
   "source": [
    "region_a.order_granules()# <-- you do not need to include the 'Coverage' kwarg to\n",
    "                             # order if you have already included it in a call to subsetparams"
   ]
  },
  {
   "cell_type": "code",
   "execution_count": null,
   "metadata": {},
   "outputs": [],
   "source": [
    "region_a.download_granules('/home/jovyan/icepyx/dev-notebooks/vardata') # <-- you do not need to include the 'Coverage' kwarg to\n",
    "                             # download if you have already submitted it with your order"
   ]
  },
  {
   "cell_type": "markdown",
   "metadata": {},
   "source": [
    "#### With a `Read` object\n",
    "Calling the `load()` method on your `Read` object will automatically look for your wanted variable list and use it.\n",
    "Please see the [read-in example Jupyter Notebook](https://github.com/icesat2py/icepyx/blob/main/doc/examples/ICESat-2_Data_Read-in_Example.ipynb) for a complete example of this usage.\n"
   ]
  },
  {
   "cell_type": "code",
   "execution_count": null,
   "metadata": {},
   "outputs": [],
   "source": []
  }
 ],
 "metadata": {
  "kernelspec": {
   "display_name": "Python 3",
   "language": "python",
   "name": "python3"
  },
  "language_info": {
   "codemirror_mode": {
    "name": "ipython",
    "version": 3
   },
   "file_extension": ".py",
   "mimetype": "text/x-python",
   "name": "python",
   "nbconvert_exporter": "python",
   "pygments_lexer": "ipython3",
   "version": "3.9.4"
  }
 },
 "nbformat": 4,
 "nbformat_minor": 4
}
