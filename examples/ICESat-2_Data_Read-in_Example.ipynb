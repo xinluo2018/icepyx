{
 "cells": [
  {
   "cell_type": "markdown",
   "id": "552e9ef9",
   "metadata": {},
   "source": [
    "## Reading ICESat-2 Data in for Analysis\n",
    "### Example notebook to showcase ICESat-2 data read-in using icepyx\n",
    "This notebook illustrates the use of icepyx for reading ICESat-2 data files, loading them into a data object.\n",
    "Currently the default data object is an Xarray Dataset, with ongoing work to provide support for other data object types.\n",
    "\n",
    "For more information on how to order and download ICESat-2 data, see the [icepyx data access tutorial](https://github.com/icesat2py/icepyx/blob/main/doc/examples/ICESat-2_DAAC_DataAccess_Example.ipynb).\n",
    "\n",
    "### Motivation\n",
    "Most often, when you open a data file, you must specify the underlying data structure and how you'd like the information to be read in.\n",
    "A simple example of this, for instance when opening a csv or similarly delimited file, is letting the software know if the data contains a header row, what the data type is (string, double, float, boolean, etc.) for each column, what the delimeter is, and which columns or rows you'd like to be loaded.\n",
    "Many ICESat-2 data readers are quite manual in nature, requiring that you accurately type out a list of string paths to the various data variables.\n",
    "\n",
    "icepyx simplifies this process by relying on its awareness of ICESat-2 specific data file variable storage structure.\n",
    "Instead of needing to manually iterate through the beam pairs, you can provide a few options to the `Read` object and icepyx will do the heavy lifting for you (as detailed in this notebook).\n",
    "\n",
    "### Approach\n",
    "If you're interested in what's happening under the hood: icepyx turns your instructions into something called a catalog, then uses the Intake library and the catalog to actually load the data into memory. Specifically, icepyx creates an [Intake](https://intake.readthedocs.io/en/latest/) data [catalog](https://intake.readthedocs.io/en/latest/catalog.html) for each requested variable and then merges the read-in data from each of the variables to create a single data object.\n",
    "\n",
    "Intake catalogs are powerful (and the tool we selected) because they can be saved, shared, modified, and reused to reproducibly read in a set of data files in a consistent way as part of an analysis workflow.\n",
    "This approach streamlines the transition between data sources (local/downloaded files or, ultimately, cloud/bucket access) and data object types (e.g. [Xarray Dataset](http://xarray.pydata.org/en/stable/generated/xarray.Dataset.html) or [GeoPandas GeoDataFrame](https://geopandas.org/docs/reference/api/geopandas.GeoDataFrame.html)).\n",
    "\n",
    "#### Credits\n",
    "* original notebook by: Jessica Scheick\n",
    "* notebook contributors: \n",
    "* templates for default ICESat-2 Intake catalogs from: [Wei Ji]() and [Tian]().\n"
   ]
  },
  {
   "cell_type": "markdown",
   "id": "0d360de3",
   "metadata": {},
   "source": [
    "### Import packages, including icepyx"
   ]
  },
  {
   "cell_type": "code",
   "execution_count": null,
   "id": "2b74b672",
   "metadata": {},
   "outputs": [],
   "source": [
    "%load_ext autoreload\n",
    "import icepyx as ipx\n",
    "%autoreload 2"
   ]
  },
  {
   "cell_type": "markdown",
   "id": "1ffb9a0c",
   "metadata": {},
   "source": [
    "### Quick Start Guide\n",
    "For those who might be looking into playing with this (but don't want to navigate the still messy notebook)"
   ]
  },
  {
   "cell_type": "code",
   "execution_count": null,
   "id": "c4390195",
   "metadata": {},
   "outputs": [],
   "source": [
    "path = '/Users/jessica/computing/icepyx/test_data/'\n",
    "pattern = \"processed_ATL{product:2}_{datetime:%Y%m%d%H%M%S}_{rgt:4}{cycle:2}{orbitsegment:2}_{version:3}_{revision:2}.h5\"\n",
    "reader = ipx.Read(path, \"ATL06\", pattern) # or ipx.Read(filepath, \"ATLXX\") if your filenames match the defualt pattern"
   ]
  },
  {
   "cell_type": "code",
   "execution_count": null,
   "id": "2f46029d",
   "metadata": {},
   "outputs": [],
   "source": [
    "reader.vars.append(beam_list=['gt1l', 'gt3r'], var_list=['h_li', \"latitude\", \"longitude\"])"
   ]
  },
  {
   "cell_type": "code",
   "execution_count": 7,
   "id": "c0439388",
   "metadata": {},
   "outputs": [
    {
     "data": {
      "text/html": [
       "<div><svg style=\"position: absolute; width: 0; height: 0; overflow: hidden\">\n",
       "<defs>\n",
       "<symbol id=\"icon-database\" viewBox=\"0 0 32 32\">\n",
       "<path d=\"M16 0c-8.837 0-16 2.239-16 5v4c0 2.761 7.163 5 16 5s16-2.239 16-5v-4c0-2.761-7.163-5-16-5z\"></path>\n",
       "<path d=\"M16 17c-8.837 0-16-2.239-16-5v6c0 2.761 7.163 5 16 5s16-2.239 16-5v-6c0 2.761-7.163 5-16 5z\"></path>\n",
       "<path d=\"M16 26c-8.837 0-16-2.239-16-5v6c0 2.761 7.163 5 16 5s16-2.239 16-5v-6c0 2.761-7.163 5-16 5z\"></path>\n",
       "</symbol>\n",
       "<symbol id=\"icon-file-text2\" viewBox=\"0 0 32 32\">\n",
       "<path d=\"M28.681 7.159c-0.694-0.947-1.662-2.053-2.724-3.116s-2.169-2.030-3.116-2.724c-1.612-1.182-2.393-1.319-2.841-1.319h-15.5c-1.378 0-2.5 1.121-2.5 2.5v27c0 1.378 1.122 2.5 2.5 2.5h23c1.378 0 2.5-1.122 2.5-2.5v-19.5c0-0.448-0.137-1.23-1.319-2.841zM24.543 5.457c0.959 0.959 1.712 1.825 2.268 2.543h-4.811v-4.811c0.718 0.556 1.584 1.309 2.543 2.268zM28 29.5c0 0.271-0.229 0.5-0.5 0.5h-23c-0.271 0-0.5-0.229-0.5-0.5v-27c0-0.271 0.229-0.5 0.5-0.5 0 0 15.499-0 15.5 0v7c0 0.552 0.448 1 1 1h7v19.5z\"></path>\n",
       "<path d=\"M23 26h-14c-0.552 0-1-0.448-1-1s0.448-1 1-1h14c0.552 0 1 0.448 1 1s-0.448 1-1 1z\"></path>\n",
       "<path d=\"M23 22h-14c-0.552 0-1-0.448-1-1s0.448-1 1-1h14c0.552 0 1 0.448 1 1s-0.448 1-1 1z\"></path>\n",
       "<path d=\"M23 18h-14c-0.552 0-1-0.448-1-1s0.448-1 1-1h14c0.552 0 1 0.448 1 1s-0.448 1-1 1z\"></path>\n",
       "</symbol>\n",
       "</defs>\n",
       "</svg>\n",
       "<style>/* CSS stylesheet for displaying xarray objects in jupyterlab.\n",
       " *\n",
       " */\n",
       "\n",
       ":root {\n",
       "  --xr-font-color0: var(--jp-content-font-color0, rgba(0, 0, 0, 1));\n",
       "  --xr-font-color2: var(--jp-content-font-color2, rgba(0, 0, 0, 0.54));\n",
       "  --xr-font-color3: var(--jp-content-font-color3, rgba(0, 0, 0, 0.38));\n",
       "  --xr-border-color: var(--jp-border-color2, #e0e0e0);\n",
       "  --xr-disabled-color: var(--jp-layout-color3, #bdbdbd);\n",
       "  --xr-background-color: var(--jp-layout-color0, white);\n",
       "  --xr-background-color-row-even: var(--jp-layout-color1, white);\n",
       "  --xr-background-color-row-odd: var(--jp-layout-color2, #eeeeee);\n",
       "}\n",
       "\n",
       "html[theme=dark],\n",
       "body.vscode-dark {\n",
       "  --xr-font-color0: rgba(255, 255, 255, 1);\n",
       "  --xr-font-color2: rgba(255, 255, 255, 0.54);\n",
       "  --xr-font-color3: rgba(255, 255, 255, 0.38);\n",
       "  --xr-border-color: #1F1F1F;\n",
       "  --xr-disabled-color: #515151;\n",
       "  --xr-background-color: #111111;\n",
       "  --xr-background-color-row-even: #111111;\n",
       "  --xr-background-color-row-odd: #313131;\n",
       "}\n",
       "\n",
       ".xr-wrap {\n",
       "  display: block;\n",
       "  min-width: 300px;\n",
       "  max-width: 700px;\n",
       "}\n",
       "\n",
       ".xr-text-repr-fallback {\n",
       "  /* fallback to plain text repr when CSS is not injected (untrusted notebook) */\n",
       "  display: none;\n",
       "}\n",
       "\n",
       ".xr-header {\n",
       "  padding-top: 6px;\n",
       "  padding-bottom: 6px;\n",
       "  margin-bottom: 4px;\n",
       "  border-bottom: solid 1px var(--xr-border-color);\n",
       "}\n",
       "\n",
       ".xr-header > div,\n",
       ".xr-header > ul {\n",
       "  display: inline;\n",
       "  margin-top: 0;\n",
       "  margin-bottom: 0;\n",
       "}\n",
       "\n",
       ".xr-obj-type,\n",
       ".xr-array-name {\n",
       "  margin-left: 2px;\n",
       "  margin-right: 10px;\n",
       "}\n",
       "\n",
       ".xr-obj-type {\n",
       "  color: var(--xr-font-color2);\n",
       "}\n",
       "\n",
       ".xr-sections {\n",
       "  padding-left: 0 !important;\n",
       "  display: grid;\n",
       "  grid-template-columns: 150px auto auto 1fr 20px 20px;\n",
       "}\n",
       "\n",
       ".xr-section-item {\n",
       "  display: contents;\n",
       "}\n",
       "\n",
       ".xr-section-item input {\n",
       "  display: none;\n",
       "}\n",
       "\n",
       ".xr-section-item input + label {\n",
       "  color: var(--xr-disabled-color);\n",
       "}\n",
       "\n",
       ".xr-section-item input:enabled + label {\n",
       "  cursor: pointer;\n",
       "  color: var(--xr-font-color2);\n",
       "}\n",
       "\n",
       ".xr-section-item input:enabled + label:hover {\n",
       "  color: var(--xr-font-color0);\n",
       "}\n",
       "\n",
       ".xr-section-summary {\n",
       "  grid-column: 1;\n",
       "  color: var(--xr-font-color2);\n",
       "  font-weight: 500;\n",
       "}\n",
       "\n",
       ".xr-section-summary > span {\n",
       "  display: inline-block;\n",
       "  padding-left: 0.5em;\n",
       "}\n",
       "\n",
       ".xr-section-summary-in:disabled + label {\n",
       "  color: var(--xr-font-color2);\n",
       "}\n",
       "\n",
       ".xr-section-summary-in + label:before {\n",
       "  display: inline-block;\n",
       "  content: '►';\n",
       "  font-size: 11px;\n",
       "  width: 15px;\n",
       "  text-align: center;\n",
       "}\n",
       "\n",
       ".xr-section-summary-in:disabled + label:before {\n",
       "  color: var(--xr-disabled-color);\n",
       "}\n",
       "\n",
       ".xr-section-summary-in:checked + label:before {\n",
       "  content: '▼';\n",
       "}\n",
       "\n",
       ".xr-section-summary-in:checked + label > span {\n",
       "  display: none;\n",
       "}\n",
       "\n",
       ".xr-section-summary,\n",
       ".xr-section-inline-details {\n",
       "  padding-top: 4px;\n",
       "  padding-bottom: 4px;\n",
       "}\n",
       "\n",
       ".xr-section-inline-details {\n",
       "  grid-column: 2 / -1;\n",
       "}\n",
       "\n",
       ".xr-section-details {\n",
       "  display: none;\n",
       "  grid-column: 1 / -1;\n",
       "  margin-bottom: 5px;\n",
       "}\n",
       "\n",
       ".xr-section-summary-in:checked ~ .xr-section-details {\n",
       "  display: contents;\n",
       "}\n",
       "\n",
       ".xr-array-wrap {\n",
       "  grid-column: 1 / -1;\n",
       "  display: grid;\n",
       "  grid-template-columns: 20px auto;\n",
       "}\n",
       "\n",
       ".xr-array-wrap > label {\n",
       "  grid-column: 1;\n",
       "  vertical-align: top;\n",
       "}\n",
       "\n",
       ".xr-preview {\n",
       "  color: var(--xr-font-color3);\n",
       "}\n",
       "\n",
       ".xr-array-preview,\n",
       ".xr-array-data {\n",
       "  padding: 0 5px !important;\n",
       "  grid-column: 2;\n",
       "}\n",
       "\n",
       ".xr-array-data,\n",
       ".xr-array-in:checked ~ .xr-array-preview {\n",
       "  display: none;\n",
       "}\n",
       "\n",
       ".xr-array-in:checked ~ .xr-array-data,\n",
       ".xr-array-preview {\n",
       "  display: inline-block;\n",
       "}\n",
       "\n",
       ".xr-dim-list {\n",
       "  display: inline-block !important;\n",
       "  list-style: none;\n",
       "  padding: 0 !important;\n",
       "  margin: 0;\n",
       "}\n",
       "\n",
       ".xr-dim-list li {\n",
       "  display: inline-block;\n",
       "  padding: 0;\n",
       "  margin: 0;\n",
       "}\n",
       "\n",
       ".xr-dim-list:before {\n",
       "  content: '(';\n",
       "}\n",
       "\n",
       ".xr-dim-list:after {\n",
       "  content: ')';\n",
       "}\n",
       "\n",
       ".xr-dim-list li:not(:last-child):after {\n",
       "  content: ',';\n",
       "  padding-right: 5px;\n",
       "}\n",
       "\n",
       ".xr-has-index {\n",
       "  font-weight: bold;\n",
       "}\n",
       "\n",
       ".xr-var-list,\n",
       ".xr-var-item {\n",
       "  display: contents;\n",
       "}\n",
       "\n",
       ".xr-var-item > div,\n",
       ".xr-var-item label,\n",
       ".xr-var-item > .xr-var-name span {\n",
       "  background-color: var(--xr-background-color-row-even);\n",
       "  margin-bottom: 0;\n",
       "}\n",
       "\n",
       ".xr-var-item > .xr-var-name:hover span {\n",
       "  padding-right: 5px;\n",
       "}\n",
       "\n",
       ".xr-var-list > li:nth-child(odd) > div,\n",
       ".xr-var-list > li:nth-child(odd) > label,\n",
       ".xr-var-list > li:nth-child(odd) > .xr-var-name span {\n",
       "  background-color: var(--xr-background-color-row-odd);\n",
       "}\n",
       "\n",
       ".xr-var-name {\n",
       "  grid-column: 1;\n",
       "}\n",
       "\n",
       ".xr-var-dims {\n",
       "  grid-column: 2;\n",
       "}\n",
       "\n",
       ".xr-var-dtype {\n",
       "  grid-column: 3;\n",
       "  text-align: right;\n",
       "  color: var(--xr-font-color2);\n",
       "}\n",
       "\n",
       ".xr-var-preview {\n",
       "  grid-column: 4;\n",
       "}\n",
       "\n",
       ".xr-var-name,\n",
       ".xr-var-dims,\n",
       ".xr-var-dtype,\n",
       ".xr-preview,\n",
       ".xr-attrs dt {\n",
       "  white-space: nowrap;\n",
       "  overflow: hidden;\n",
       "  text-overflow: ellipsis;\n",
       "  padding-right: 10px;\n",
       "}\n",
       "\n",
       ".xr-var-name:hover,\n",
       ".xr-var-dims:hover,\n",
       ".xr-var-dtype:hover,\n",
       ".xr-attrs dt:hover {\n",
       "  overflow: visible;\n",
       "  width: auto;\n",
       "  z-index: 1;\n",
       "}\n",
       "\n",
       ".xr-var-attrs,\n",
       ".xr-var-data {\n",
       "  display: none;\n",
       "  background-color: var(--xr-background-color) !important;\n",
       "  padding-bottom: 5px !important;\n",
       "}\n",
       "\n",
       ".xr-var-attrs-in:checked ~ .xr-var-attrs,\n",
       ".xr-var-data-in:checked ~ .xr-var-data {\n",
       "  display: block;\n",
       "}\n",
       "\n",
       ".xr-var-data > table {\n",
       "  float: right;\n",
       "}\n",
       "\n",
       ".xr-var-name span,\n",
       ".xr-var-data,\n",
       ".xr-attrs {\n",
       "  padding-left: 25px !important;\n",
       "}\n",
       "\n",
       ".xr-attrs,\n",
       ".xr-var-attrs,\n",
       ".xr-var-data {\n",
       "  grid-column: 1 / -1;\n",
       "}\n",
       "\n",
       "dl.xr-attrs {\n",
       "  padding: 0;\n",
       "  margin: 0;\n",
       "  display: grid;\n",
       "  grid-template-columns: 125px auto;\n",
       "}\n",
       "\n",
       ".xr-attrs dt,\n",
       ".xr-attrs dd {\n",
       "  padding: 0;\n",
       "  margin: 0;\n",
       "  float: left;\n",
       "  padding-right: 10px;\n",
       "  width: auto;\n",
       "}\n",
       "\n",
       ".xr-attrs dt {\n",
       "  font-weight: normal;\n",
       "  grid-column: 1;\n",
       "}\n",
       "\n",
       ".xr-attrs dt:hover span {\n",
       "  display: inline-block;\n",
       "  background: var(--xr-background-color);\n",
       "  padding-right: 10px;\n",
       "}\n",
       "\n",
       ".xr-attrs dd {\n",
       "  grid-column: 2;\n",
       "  white-space: pre-wrap;\n",
       "  word-break: break-all;\n",
       "}\n",
       "\n",
       ".xr-icon-database,\n",
       ".xr-icon-file-text2 {\n",
       "  display: inline-block;\n",
       "  vertical-align: middle;\n",
       "  width: 1em;\n",
       "  height: 1.5em !important;\n",
       "  stroke-width: 0;\n",
       "  stroke: currentColor;\n",
       "  fill: currentColor;\n",
       "}\n",
       "</style><pre class='xr-text-repr-fallback'>&lt;xarray.Dataset&gt;\n",
       "Dimensions:              (delta_time: 55654, gran_idx: 3, spot: 2)\n",
       "Coordinates:\n",
       "  * delta_time           (delta_time) datetime64[ns] 2019-02-22T01:06:07.5054...\n",
       "  * gran_idx             (gran_idx) &lt;U6 &#x27;084902&#x27; &#x27;090202&#x27; &#x27;091002&#x27;\n",
       "  * spot                 (spot) int64 2 5\n",
       "    source_file          (gran_idx) &lt;U91 &#x27;/Users/jessica/computing/icepyx/tes...\n",
       "    gt                   (gran_idx, spot) object &#x27;gt3r&#x27; &#x27;gt1l&#x27; ... &#x27;gt3r&#x27; &#x27;gt1l&#x27;\n",
       "Data variables:\n",
       "    sc_orient            (gran_idx) int8 0 0 0\n",
       "    cycle_number         (gran_idx) int8 2 2 2\n",
       "    rgt                  (gran_idx) int16 849 902 910\n",
       "    h_li                 (spot, gran_idx, delta_time) float32 nan nan ... nan\n",
       "    latitude             (spot, gran_idx, delta_time) float64 nan nan ... nan\n",
       "    longitude            (spot, gran_idx, delta_time) float64 nan nan ... nan\n",
       "    atlas_sdp_gps_epoch  (gran_idx) datetime64[ns] 2018-01-01T00:00:18 ... 20...\n",
       "    data_start_utc       (gran_idx) |S27 b&#x27;2019-02-22T01:03:44.199777Z&#x27; ... b...\n",
       "    data_end_utc         (gran_idx) |S27 b&#x27;2019-02-22T01:07:38.112327Z&#x27; ... b...\n",
       "Attributes:\n",
       "    data_product:  ATL06\n",
       "    Description:   The land_ice_height group contains the primary set of deri...\n",
       "    data_rate:     Data within this group are sparse.  Data values are provid...</pre><div class='xr-wrap' hidden><div class='xr-header'><div class='xr-obj-type'>xarray.Dataset</div></div><ul class='xr-sections'><li class='xr-section-item'><input id='section-2af1656a-8048-4f84-ad26-3f08b928e4b2' class='xr-section-summary-in' type='checkbox' disabled ><label for='section-2af1656a-8048-4f84-ad26-3f08b928e4b2' class='xr-section-summary'  title='Expand/collapse section'>Dimensions:</label><div class='xr-section-inline-details'><ul class='xr-dim-list'><li><span class='xr-has-index'>delta_time</span>: 55654</li><li><span class='xr-has-index'>gran_idx</span>: 3</li><li><span class='xr-has-index'>spot</span>: 2</li></ul></div><div class='xr-section-details'></div></li><li class='xr-section-item'><input id='section-fcd82b9e-8808-45ff-992c-91d03a536a2e' class='xr-section-summary-in' type='checkbox'  checked><label for='section-fcd82b9e-8808-45ff-992c-91d03a536a2e' class='xr-section-summary' >Coordinates: <span>(5)</span></label><div class='xr-section-inline-details'></div><div class='xr-section-details'><ul class='xr-var-list'><li class='xr-var-item'><div class='xr-var-name'><span class='xr-has-index'>delta_time</span></div><div class='xr-var-dims'>(delta_time)</div><div class='xr-var-dtype'>datetime64[ns]</div><div class='xr-var-preview xr-preview'>2019-02-22T01:06:07.505465416 .....</div><input id='attrs-ad1a6de5-2843-4307-affc-ec9f1169ff13' class='xr-var-attrs-in' type='checkbox' ><label for='attrs-ad1a6de5-2843-4307-affc-ec9f1169ff13' title='Show/Hide attributes'><svg class='icon xr-icon-file-text2'><use xlink:href='#icon-file-text2'></use></svg></label><input id='data-a4720526-ae4d-40a4-a2bc-b6dc58b4c48a' class='xr-var-data-in' type='checkbox'><label for='data-a4720526-ae4d-40a4-a2bc-b6dc58b4c48a' title='Show/Hide data repr'><svg class='icon xr-icon-database'><use xlink:href='#icon-database'></use></svg></label><div class='xr-var-attrs'><dl class='xr-attrs'><dt><span>contentType :</span></dt><dd>referenceInformation</dd><dt><span>description :</span></dt><dd>Number of GPS seconds since the ATLAS SDP epoch. The ATLAS Standard Data Products (SDP) epoch offset is defined within /ancillary_data/atlas_sdp_gps_epoch as the number of GPS seconds between the GPS epoch (1980-01-06T00:00:00.000000Z UTC) and the ATLAS SDP epoch. By adding the offset contained within atlas_sdp_gps_epoch to delta time parameters, the time in gps_seconds relative to the GPS epoch can be computed.</dd><dt><span>long_name :</span></dt><dd>Elapsed GPS seconds</dd><dt><span>source :</span></dt><dd>section 4.4</dd><dt><span>standard_name :</span></dt><dd>time</dd></dl></div><div class='xr-var-data'><pre>array([&#x27;2019-02-22T01:06:07.505465416&#x27;, &#x27;2019-02-22T01:06:07.508282432&#x27;,\n",
       "       &#x27;2019-02-22T01:06:07.511102456&#x27;, ..., &#x27;2019-02-26T00:58:37.200494552&#x27;,\n",
       "       &#x27;2019-02-26T00:58:37.203315744&#x27;, &#x27;2019-02-26T00:58:37.206135968&#x27;],\n",
       "      dtype=&#x27;datetime64[ns]&#x27;)</pre></div></li><li class='xr-var-item'><div class='xr-var-name'><span class='xr-has-index'>gran_idx</span></div><div class='xr-var-dims'>(gran_idx)</div><div class='xr-var-dtype'>&lt;U6</div><div class='xr-var-preview xr-preview'>&#x27;084902&#x27; &#x27;090202&#x27; &#x27;091002&#x27;</div><input id='attrs-fe5528f4-f520-4edc-9750-114d3f9fe0c6' class='xr-var-attrs-in' type='checkbox' disabled><label for='attrs-fe5528f4-f520-4edc-9750-114d3f9fe0c6' title='Show/Hide attributes'><svg class='icon xr-icon-file-text2'><use xlink:href='#icon-file-text2'></use></svg></label><input id='data-eb05db9f-6021-4534-9188-1286f8d80ae5' class='xr-var-data-in' type='checkbox'><label for='data-eb05db9f-6021-4534-9188-1286f8d80ae5' title='Show/Hide data repr'><svg class='icon xr-icon-database'><use xlink:href='#icon-database'></use></svg></label><div class='xr-var-attrs'><dl class='xr-attrs'></dl></div><div class='xr-var-data'><pre>array([&#x27;084902&#x27;, &#x27;090202&#x27;, &#x27;091002&#x27;], dtype=&#x27;&lt;U6&#x27;)</pre></div></li><li class='xr-var-item'><div class='xr-var-name'><span class='xr-has-index'>spot</span></div><div class='xr-var-dims'>(spot)</div><div class='xr-var-dtype'>int64</div><div class='xr-var-preview xr-preview'>2 5</div><input id='attrs-4851a762-28aa-4ea3-97ee-5c950abf7f87' class='xr-var-attrs-in' type='checkbox' disabled><label for='attrs-4851a762-28aa-4ea3-97ee-5c950abf7f87' title='Show/Hide attributes'><svg class='icon xr-icon-file-text2'><use xlink:href='#icon-file-text2'></use></svg></label><input id='data-65958276-9282-4436-8a10-07172105b190' class='xr-var-data-in' type='checkbox'><label for='data-65958276-9282-4436-8a10-07172105b190' title='Show/Hide data repr'><svg class='icon xr-icon-database'><use xlink:href='#icon-database'></use></svg></label><div class='xr-var-attrs'><dl class='xr-attrs'></dl></div><div class='xr-var-data'><pre>array([2, 5])</pre></div></li><li class='xr-var-item'><div class='xr-var-name'><span>source_file</span></div><div class='xr-var-dims'>(gran_idx)</div><div class='xr-var-dtype'>&lt;U91</div><div class='xr-var-preview xr-preview'>&#x27;/Users/jessica/computing/icepyx...</div><input id='attrs-7527f20d-a43d-4178-9ad9-d6573dc2d36c' class='xr-var-attrs-in' type='checkbox' disabled><label for='attrs-7527f20d-a43d-4178-9ad9-d6573dc2d36c' title='Show/Hide attributes'><svg class='icon xr-icon-file-text2'><use xlink:href='#icon-file-text2'></use></svg></label><input id='data-80a55e39-8937-4fbd-9ec9-5172bb4d8447' class='xr-var-data-in' type='checkbox'><label for='data-80a55e39-8937-4fbd-9ec9-5172bb4d8447' title='Show/Hide data repr'><svg class='icon xr-icon-database'><use xlink:href='#icon-database'></use></svg></label><div class='xr-var-attrs'><dl class='xr-attrs'></dl></div><div class='xr-var-data'><pre>array([&#x27;/Users/jessica/computing/icepyx/test_data/processed_ATL06_20190222010344_08490205_004_01.h5&#x27;,\n",
       "       &#x27;/Users/jessica/computing/icepyx/test_data/processed_ATL06_20190225121032_09020203_004_01.h5&#x27;,\n",
       "       &#x27;/Users/jessica/computing/icepyx/test_data/processed_ATL06_20190226005526_09100205_004_01.h5&#x27;],\n",
       "      dtype=&#x27;&lt;U91&#x27;)</pre></div></li><li class='xr-var-item'><div class='xr-var-name'><span>gt</span></div><div class='xr-var-dims'>(gran_idx, spot)</div><div class='xr-var-dtype'>object</div><div class='xr-var-preview xr-preview'>&#x27;gt3r&#x27; &#x27;gt1l&#x27; ... &#x27;gt3r&#x27; &#x27;gt1l&#x27;</div><input id='attrs-21ce1341-c478-4115-8b49-8913b509f062' class='xr-var-attrs-in' type='checkbox' disabled><label for='attrs-21ce1341-c478-4115-8b49-8913b509f062' title='Show/Hide attributes'><svg class='icon xr-icon-file-text2'><use xlink:href='#icon-file-text2'></use></svg></label><input id='data-cf568c62-c311-4c29-bc0f-887c7bf89ef0' class='xr-var-data-in' type='checkbox'><label for='data-cf568c62-c311-4c29-bc0f-887c7bf89ef0' title='Show/Hide data repr'><svg class='icon xr-icon-database'><use xlink:href='#icon-database'></use></svg></label><div class='xr-var-attrs'><dl class='xr-attrs'></dl></div><div class='xr-var-data'><pre>array([[&#x27;gt3r&#x27;, &#x27;gt1l&#x27;],\n",
       "       [&#x27;gt3r&#x27;, &#x27;gt1l&#x27;],\n",
       "       [&#x27;gt3r&#x27;, &#x27;gt1l&#x27;]], dtype=object)</pre></div></li></ul></div></li><li class='xr-section-item'><input id='section-51553a87-d2d0-4f7f-b754-ab5388d3a89e' class='xr-section-summary-in' type='checkbox'  checked><label for='section-51553a87-d2d0-4f7f-b754-ab5388d3a89e' class='xr-section-summary' >Data variables: <span>(9)</span></label><div class='xr-section-inline-details'></div><div class='xr-section-details'><ul class='xr-var-list'><li class='xr-var-item'><div class='xr-var-name'><span>sc_orient</span></div><div class='xr-var-dims'>(gran_idx)</div><div class='xr-var-dtype'>int8</div><div class='xr-var-preview xr-preview'>0 0 0</div><input id='attrs-98e6948d-ff09-48dc-a89e-f77f88d3cc40' class='xr-var-attrs-in' type='checkbox' disabled><label for='attrs-98e6948d-ff09-48dc-a89e-f77f88d3cc40' title='Show/Hide attributes'><svg class='icon xr-icon-file-text2'><use xlink:href='#icon-file-text2'></use></svg></label><input id='data-537eef9f-e39e-4859-ab38-578714617b3b' class='xr-var-data-in' type='checkbox'><label for='data-537eef9f-e39e-4859-ab38-578714617b3b' title='Show/Hide data repr'><svg class='icon xr-icon-database'><use xlink:href='#icon-database'></use></svg></label><div class='xr-var-attrs'><dl class='xr-attrs'></dl></div><div class='xr-var-data'><pre>array([0, 0, 0], dtype=int8)</pre></div></li><li class='xr-var-item'><div class='xr-var-name'><span>cycle_number</span></div><div class='xr-var-dims'>(gran_idx)</div><div class='xr-var-dtype'>int8</div><div class='xr-var-preview xr-preview'>2 2 2</div><input id='attrs-12c9087c-e1b1-45f2-ad0c-b3a506e4a37e' class='xr-var-attrs-in' type='checkbox' disabled><label for='attrs-12c9087c-e1b1-45f2-ad0c-b3a506e4a37e' title='Show/Hide attributes'><svg class='icon xr-icon-file-text2'><use xlink:href='#icon-file-text2'></use></svg></label><input id='data-0272145d-fa77-448e-9595-9b8c127968a8' class='xr-var-data-in' type='checkbox'><label for='data-0272145d-fa77-448e-9595-9b8c127968a8' title='Show/Hide data repr'><svg class='icon xr-icon-database'><use xlink:href='#icon-database'></use></svg></label><div class='xr-var-attrs'><dl class='xr-attrs'></dl></div><div class='xr-var-data'><pre>array([2, 2, 2], dtype=int8)</pre></div></li><li class='xr-var-item'><div class='xr-var-name'><span>rgt</span></div><div class='xr-var-dims'>(gran_idx)</div><div class='xr-var-dtype'>int16</div><div class='xr-var-preview xr-preview'>849 902 910</div><input id='attrs-66925fd6-a6bb-49b4-8cd0-eab65a85a1ca' class='xr-var-attrs-in' type='checkbox' disabled><label for='attrs-66925fd6-a6bb-49b4-8cd0-eab65a85a1ca' title='Show/Hide attributes'><svg class='icon xr-icon-file-text2'><use xlink:href='#icon-file-text2'></use></svg></label><input id='data-17c359ab-8e87-4607-bd1e-7efbb5033f12' class='xr-var-data-in' type='checkbox'><label for='data-17c359ab-8e87-4607-bd1e-7efbb5033f12' title='Show/Hide data repr'><svg class='icon xr-icon-database'><use xlink:href='#icon-database'></use></svg></label><div class='xr-var-attrs'><dl class='xr-attrs'></dl></div><div class='xr-var-data'><pre>array([849, 902, 910], dtype=int16)</pre></div></li><li class='xr-var-item'><div class='xr-var-name'><span>h_li</span></div><div class='xr-var-dims'>(spot, gran_idx, delta_time)</div><div class='xr-var-dtype'>float32</div><div class='xr-var-preview xr-preview'>nan nan nan nan ... nan nan nan nan</div><input id='attrs-afeebeab-edc4-4d0b-8a5c-3283bf1d709e' class='xr-var-attrs-in' type='checkbox' ><label for='attrs-afeebeab-edc4-4d0b-8a5c-3283bf1d709e' title='Show/Hide attributes'><svg class='icon xr-icon-file-text2'><use xlink:href='#icon-file-text2'></use></svg></label><input id='data-15d73bd0-eba6-4e63-8ced-d25876d77c62' class='xr-var-data-in' type='checkbox'><label for='data-15d73bd0-eba6-4e63-8ced-d25876d77c62' title='Show/Hide data repr'><svg class='icon xr-icon-database'><use xlink:href='#icon-database'></use></svg></label><div class='xr-var-attrs'><dl class='xr-attrs'><dt><span>contentType :</span></dt><dd>physicalMeasurement</dd><dt><span>description :</span></dt><dd>Standard land-ice segment height determined by land ice algorithm, corrected for first-photon bias, representing the median- based height of the selected PEs</dd><dt><span>long_name :</span></dt><dd>Land Ice height</dd><dt><span>source :</span></dt><dd>section 4.4</dd><dt><span>units :</span></dt><dd>meters</dd></dl></div><div class='xr-var-data'><pre>array([[[       nan,        nan,        nan, ...,        nan,\n",
       "                nan,        nan],\n",
       "        [       nan,        nan,        nan, ...,        nan,\n",
       "                nan,        nan],\n",
       "        [       nan,        nan,        nan, ...,  345.99646,\n",
       "          349.50208,  351.82587]],\n",
       "\n",
       "       [[1091.628  , 1091.9479 , 1091.9801 , ...,        nan,\n",
       "                nan,        nan],\n",
       "        [       nan,        nan,        nan, ...,        nan,\n",
       "                nan,        nan],\n",
       "        [       nan,        nan,        nan, ...,        nan,\n",
       "                nan,        nan]]], dtype=float32)</pre></div></li><li class='xr-var-item'><div class='xr-var-name'><span>latitude</span></div><div class='xr-var-dims'>(spot, gran_idx, delta_time)</div><div class='xr-var-dtype'>float64</div><div class='xr-var-preview xr-preview'>nan nan nan nan ... nan nan nan nan</div><input id='attrs-fe67f106-75ef-4f5b-9b34-a0b031fcfc8b' class='xr-var-attrs-in' type='checkbox' ><label for='attrs-fe67f106-75ef-4f5b-9b34-a0b031fcfc8b' title='Show/Hide attributes'><svg class='icon xr-icon-file-text2'><use xlink:href='#icon-file-text2'></use></svg></label><input id='data-fec79e00-a4e0-417b-80fc-8b5af55f78fb' class='xr-var-data-in' type='checkbox'><label for='data-fec79e00-a4e0-417b-80fc-8b5af55f78fb' title='Show/Hide data repr'><svg class='icon xr-icon-database'><use xlink:href='#icon-database'></use></svg></label><div class='xr-var-attrs'><dl class='xr-attrs'><dt><span>contentType :</span></dt><dd>physicalMeasurement</dd><dt><span>description :</span></dt><dd>Latitude of segment center, WGS84, North=+,</dd><dt><span>long_name :</span></dt><dd>Latitude</dd><dt><span>source :</span></dt><dd>section 3.10</dd><dt><span>standard_name :</span></dt><dd>latitude</dd><dt><span>units :</span></dt><dd>degrees_north</dd><dt><span>valid_max :</span></dt><dd>90.0</dd><dt><span>valid_min :</span></dt><dd>-90.0</dd></dl></div><div class='xr-var-data'><pre>array([[[        nan,         nan,         nan, ...,         nan,\n",
       "                 nan,         nan],\n",
       "        [        nan,         nan,         nan, ...,         nan,\n",
       "                 nan,         nan],\n",
       "        [        nan,         nan,         nan, ..., 68.00044022,\n",
       "         68.000262  , 68.00008377]],\n",
       "\n",
       "       [[70.99997578, 70.99979794, 70.99962009, ...,         nan,\n",
       "                 nan,         nan],\n",
       "        [        nan,         nan,         nan, ...,         nan,\n",
       "                 nan,         nan],\n",
       "        [        nan,         nan,         nan, ...,         nan,\n",
       "                 nan,         nan]]])</pre></div></li><li class='xr-var-item'><div class='xr-var-name'><span>longitude</span></div><div class='xr-var-dims'>(spot, gran_idx, delta_time)</div><div class='xr-var-dtype'>float64</div><div class='xr-var-preview xr-preview'>nan nan nan nan ... nan nan nan nan</div><input id='attrs-d6ab7a61-4c6e-4371-b38e-cf2d16b2344f' class='xr-var-attrs-in' type='checkbox' ><label for='attrs-d6ab7a61-4c6e-4371-b38e-cf2d16b2344f' title='Show/Hide attributes'><svg class='icon xr-icon-file-text2'><use xlink:href='#icon-file-text2'></use></svg></label><input id='data-7fca0bda-f754-437d-9346-5ea9bed0d3ba' class='xr-var-data-in' type='checkbox'><label for='data-7fca0bda-f754-437d-9346-5ea9bed0d3ba' title='Show/Hide data repr'><svg class='icon xr-icon-database'><use xlink:href='#icon-database'></use></svg></label><div class='xr-var-attrs'><dl class='xr-attrs'><dt><span>contentType :</span></dt><dd>physicalMeasurement</dd><dt><span>description :</span></dt><dd>Longitude of segment center, , WGS84, East=+</dd><dt><span>long_name :</span></dt><dd>Longitude</dd><dt><span>source :</span></dt><dd>section 3.10</dd><dt><span>standard_name :</span></dt><dd>longitude</dd><dt><span>units :</span></dt><dd>degrees_east</dd><dt><span>valid_max :</span></dt><dd>180.0</dd><dt><span>valid_min :</span></dt><dd>-180.0</dd></dl></div><div class='xr-var-data'><pre>array([[[         nan,          nan,          nan, ...,          nan,\n",
       "                  nan,          nan],\n",
       "        [         nan,          nan,          nan, ...,          nan,\n",
       "                  nan,          nan],\n",
       "        [         nan,          nan,          nan, ..., -52.50070046,\n",
       "         -52.50075639, -52.5008121 ]],\n",
       "\n",
       "       [[-50.48690156, -50.4869738 , -50.48704564, ...,          nan,\n",
       "                  nan,          nan],\n",
       "        [         nan,          nan,          nan, ...,          nan,\n",
       "                  nan,          nan],\n",
       "        [         nan,          nan,          nan, ...,          nan,\n",
       "                  nan,          nan]]])</pre></div></li><li class='xr-var-item'><div class='xr-var-name'><span>atlas_sdp_gps_epoch</span></div><div class='xr-var-dims'>(gran_idx)</div><div class='xr-var-dtype'>datetime64[ns]</div><div class='xr-var-preview xr-preview'>2018-01-01T00:00:18 ... 2018-01-...</div><input id='attrs-2d2fb494-73b6-45a3-8ca9-5956096887c7' class='xr-var-attrs-in' type='checkbox' disabled><label for='attrs-2d2fb494-73b6-45a3-8ca9-5956096887c7' title='Show/Hide attributes'><svg class='icon xr-icon-file-text2'><use xlink:href='#icon-file-text2'></use></svg></label><input id='data-7eea8b85-3f12-447e-a311-fb4cc853bc7a' class='xr-var-data-in' type='checkbox'><label for='data-7eea8b85-3f12-447e-a311-fb4cc853bc7a' title='Show/Hide data repr'><svg class='icon xr-icon-database'><use xlink:href='#icon-database'></use></svg></label><div class='xr-var-attrs'><dl class='xr-attrs'></dl></div><div class='xr-var-data'><pre>array([&#x27;2018-01-01T00:00:18.000000000&#x27;, &#x27;2018-01-01T00:00:18.000000000&#x27;,\n",
       "       &#x27;2018-01-01T00:00:18.000000000&#x27;], dtype=&#x27;datetime64[ns]&#x27;)</pre></div></li><li class='xr-var-item'><div class='xr-var-name'><span>data_start_utc</span></div><div class='xr-var-dims'>(gran_idx)</div><div class='xr-var-dtype'>|S27</div><div class='xr-var-preview xr-preview'>b&#x27;2019-02-22T01:03:44.199777Z&#x27; ....</div><input id='attrs-65017782-7f1d-4bd8-8ceb-f1723520deb7' class='xr-var-attrs-in' type='checkbox' disabled><label for='attrs-65017782-7f1d-4bd8-8ceb-f1723520deb7' title='Show/Hide attributes'><svg class='icon xr-icon-file-text2'><use xlink:href='#icon-file-text2'></use></svg></label><input id='data-43dbab29-da75-4e18-93a5-8d003cc12c4a' class='xr-var-data-in' type='checkbox'><label for='data-43dbab29-da75-4e18-93a5-8d003cc12c4a' title='Show/Hide data repr'><svg class='icon xr-icon-database'><use xlink:href='#icon-database'></use></svg></label><div class='xr-var-attrs'><dl class='xr-attrs'></dl></div><div class='xr-var-data'><pre>array([b&#x27;2019-02-22T01:03:44.199777Z&#x27;, b&#x27;2019-02-25T12:10:49.539407Z&#x27;,\n",
       "       b&#x27;2019-02-26T00:55:25.977601Z&#x27;], dtype=&#x27;|S27&#x27;)</pre></div></li><li class='xr-var-item'><div class='xr-var-name'><span>data_end_utc</span></div><div class='xr-var-dims'>(gran_idx)</div><div class='xr-var-dtype'>|S27</div><div class='xr-var-preview xr-preview'>b&#x27;2019-02-22T01:07:38.112327Z&#x27; ....</div><input id='attrs-146fd70b-b7fa-45cf-aafb-e52733c6d5f6' class='xr-var-attrs-in' type='checkbox' disabled><label for='attrs-146fd70b-b7fa-45cf-aafb-e52733c6d5f6' title='Show/Hide attributes'><svg class='icon xr-icon-file-text2'><use xlink:href='#icon-file-text2'></use></svg></label><input id='data-0a4440d3-0b82-41a1-be93-6abecae13d97' class='xr-var-data-in' type='checkbox'><label for='data-0a4440d3-0b82-41a1-be93-6abecae13d97' title='Show/Hide data repr'><svg class='icon xr-icon-database'><use xlink:href='#icon-database'></use></svg></label><div class='xr-var-attrs'><dl class='xr-attrs'></dl></div><div class='xr-var-data'><pre>array([b&#x27;2019-02-22T01:07:38.112327Z&#x27;, b&#x27;2019-02-25T12:15:58.020072Z&#x27;,\n",
       "       b&#x27;2019-02-26T00:59:21.044130Z&#x27;], dtype=&#x27;|S27&#x27;)</pre></div></li></ul></div></li><li class='xr-section-item'><input id='section-d3045ad2-b94c-431f-bde7-62eeb3ee4189' class='xr-section-summary-in' type='checkbox'  checked><label for='section-d3045ad2-b94c-431f-bde7-62eeb3ee4189' class='xr-section-summary' >Attributes: <span>(3)</span></label><div class='xr-section-inline-details'></div><div class='xr-section-details'><dl class='xr-attrs'><dt><span>data_product :</span></dt><dd>ATL06</dd><dt><span>Description :</span></dt><dd>The land_ice_height group contains the primary set of derived ATL06 products. This includes geolocation, height, and standard error and quality measures for each segment. This group is sparse, meaning that parameters are provided only for pairs of segments for which at least one beam has a valid surface-height measurement.</dd><dt><span>data_rate :</span></dt><dd>Data within this group are sparse.  Data values are provided only for those ICESat-2 20m segments where at least one beam has a valid land ice height measurement.</dd></dl></div></li></ul></div></div>"
      ],
      "text/plain": [
       "<xarray.Dataset>\n",
       "Dimensions:              (delta_time: 55654, gran_idx: 3, spot: 2)\n",
       "Coordinates:\n",
       "  * delta_time           (delta_time) datetime64[ns] 2019-02-22T01:06:07.5054...\n",
       "  * gran_idx             (gran_idx) <U6 '084902' '090202' '091002'\n",
       "  * spot                 (spot) int64 2 5\n",
       "    source_file          (gran_idx) <U91 '/Users/jessica/computing/icepyx/tes...\n",
       "    gt                   (gran_idx, spot) object 'gt3r' 'gt1l' ... 'gt3r' 'gt1l'\n",
       "Data variables:\n",
       "    sc_orient            (gran_idx) int8 0 0 0\n",
       "    cycle_number         (gran_idx) int8 2 2 2\n",
       "    rgt                  (gran_idx) int16 849 902 910\n",
       "    h_li                 (spot, gran_idx, delta_time) float32 nan nan ... nan\n",
       "    latitude             (spot, gran_idx, delta_time) float64 nan nan ... nan\n",
       "    longitude            (spot, gran_idx, delta_time) float64 nan nan ... nan\n",
       "    atlas_sdp_gps_epoch  (gran_idx) datetime64[ns] 2018-01-01T00:00:18 ... 20...\n",
       "    data_start_utc       (gran_idx) |S27 b'2019-02-22T01:03:44.199777Z' ... b...\n",
       "    data_end_utc         (gran_idx) |S27 b'2019-02-22T01:07:38.112327Z' ... b...\n",
       "Attributes:\n",
       "    data_product:  ATL06\n",
       "    Description:   The land_ice_height group contains the primary set of deri...\n",
       "    data_rate:     Data within this group are sparse.  Data values are provid..."
      ]
     },
     "execution_count": 7,
     "metadata": {},
     "output_type": "execute_result"
    }
   ],
   "source": [
    "ds = reader.load()\n",
    "ds"
   ]
  },
  {
   "cell_type": "code",
   "execution_count": 8,
   "id": "fae7768a",
   "metadata": {},
   "outputs": [
    {
     "data": {
      "text/plain": [
       "<matplotlib.collections.PathCollection at 0x1860447c0>"
      ]
     },
     "execution_count": 8,
     "metadata": {},
     "output_type": "execute_result"
    },
    {
     "data": {
      "image/png": "[encoded data removed]",
      "text/plain": [
       "<Figure size 432x288 with 1 Axes>"
      ]
     },
     "metadata": {
      "needs_background": "light"
     },
     "output_type": "display_data"
    }
   ],
   "source": [
    "ds.plot.scatter(x=\"longitude\", y=\"latitude\")"
   ]
  },
  {
   "cell_type": "code",
   "execution_count": null,
   "id": "d266dc10",
   "metadata": {},
   "outputs": [],
   "source": []
  },
  {
   "cell_type": "code",
   "execution_count": null,
   "id": "37f92d04",
   "metadata": {},
   "outputs": [],
   "source": []
  },
  {
   "cell_type": "code",
   "execution_count": null,
   "id": "0c9a5e35",
   "metadata": {},
   "outputs": [],
   "source": []
  },
  {
   "cell_type": "code",
   "execution_count": null,
   "id": "30641317",
   "metadata": {},
   "outputs": [],
   "source": []
  },
  {
   "cell_type": "code",
   "execution_count": null,
   "id": "72ab65dc",
   "metadata": {},
   "outputs": [],
   "source": [
    "import os\n",
    "import fnmatch\n",
    "import glob\n",
    "import pathlib\n",
    "import fsspec\n",
    "from fsspec.implementations.local import LocalFileSystem"
   ]
  },
  {
   "cell_type": "markdown",
   "id": "dab8f0ea",
   "metadata": {},
   "source": [
    "https://github.com/OSOceanAcoustics/echopype/blob/ab5128fb8580f135d875580f0469e5fba3193b84/echopype/utils/io.py\n",
    "https://filesystem-spec.readthedocs.io/en/latest/api.html?highlight=get_map#fsspec.spec.AbstractFileSystem.glob\n",
    "https://filesystem-spec.readthedocs.io/en/latest/_modules/fsspec/implementations/local.html\n",
    "https://github.com/OSOceanAcoustics/echopype/blob/ab5128fb8580f135d875580f0469e5fba3193b84/echopype/convert/api.py#L380\n",
    "https://echopype.readthedocs.io/en/stable/convert.html\n"
   ]
  },
  {
   "cell_type": "markdown",
   "id": "b8875936",
   "metadata": {},
   "source": [
    "### Key steps for loading (reading) ICESat-2 data\n",
    "\n",
    "Reading in ICESat-2 data with icepyx happens in a few simple steps:\n",
    "1. Let icepyx know where to find your data (this might be local files or urls to data in cloud storage)\n",
    "2. Tell icepyx how to interpret the filename format\n",
    "3. Create an icepyx `Read` object\n",
    "4. Make a list of the variables you want to read in\n",
    "5. Load your data into memory (or read it in lazily, if you're using Dask)\n",
    "\n",
    "We go through each of these steps in more detail in this notebook."
   ]
  },
  {
   "cell_type": "markdown",
   "id": "e0ac2413",
   "metadata": {},
   "source": [
    "### Step 0: Get some data if you haven't already\n",
    "Here are a few lines of code to get you set up with a few data files if you don't already have some on your local system."
   ]
  },
  {
   "cell_type": "code",
   "execution_count": null,
   "id": "63da2b3c",
   "metadata": {},
   "outputs": [],
   "source": [
    "region_a = ipx.Query('ATL06',[-55, 68, -48, 71],['2019-02-22','2019-02-28'], \\\n",
    "                           start_time='00:00:00', end_time='23:59:59')"
   ]
  },
  {
   "cell_type": "code",
   "execution_count": null,
   "id": "2bb83dfe",
   "metadata": {},
   "outputs": [],
   "source": [
    "region_a.earthdata_login('jessica.scheick','jbscheick@gmail.com')"
   ]
  },
  {
   "cell_type": "code",
   "execution_count": null,
   "id": "e6f7c047",
   "metadata": {},
   "outputs": [],
   "source": [
    "region_a.download_granules(path=path)"
   ]
  },
  {
   "cell_type": "code",
   "execution_count": null,
   "id": "a622a60e",
   "metadata": {},
   "outputs": [],
   "source": []
  },
  {
   "cell_type": "code",
   "execution_count": null,
   "id": "07a891ec",
   "metadata": {},
   "outputs": [],
   "source": [
    "lfs = LocalFileSystem()"
   ]
  },
  {
   "cell_type": "code",
   "execution_count": null,
   "id": "6bf5b474",
   "metadata": {},
   "outputs": [],
   "source": [
    "lfs"
   ]
  },
  {
   "cell_type": "code",
   "execution_count": null,
   "id": "24266bf6",
   "metadata": {},
   "outputs": [],
   "source": [
    "lfs.ls(\"/\")"
   ]
  },
  {
   "cell_type": "code",
   "execution_count": null,
   "id": "941f79b9",
   "metadata": {},
   "outputs": [],
   "source": [
    "fsmap = fsspec.get_mapper(str(path))\n",
    "output_fs = fsmap.fs"
   ]
  },
  {
   "cell_type": "code",
   "execution_count": null,
   "id": "a041cc68",
   "metadata": {},
   "outputs": [],
   "source": [
    "output_fs.ls()"
   ]
  },
  {
   "cell_type": "code",
   "execution_count": null,
   "id": "889e4f63",
   "metadata": {},
   "outputs": [],
   "source": [
    "output_fs"
   ]
  },
  {
   "cell_type": "code",
   "execution_count": null,
   "id": "df2e626a",
   "metadata": {},
   "outputs": [],
   "source": [
    "source_file, file_format\n",
    "\n",
    "\n",
    "if not isinstance(save_path, Path) and not isinstance(save_path, str):\n",
    "            raise TypeError(\"save_path must be a string or Path\")\n",
    "\n",
    "        fsmap = fsspec.get_mapper(str(save_path), **output_storage_options)\n",
    "        output_fs = fsmap.fs\n",
    "\n",
    "        # Use the full path such as s3://... if it's not local, otherwise use root\n",
    "        if isinstance(output_fs, LocalFileSystem):\n",
    "            root = fsmap.root\n",
    "        else:\n",
    "            root = save_path\n",
    "        if Path(root).suffix == \"\":  # directory\n",
    "            out_dir = root\n",
    "            out_path = os.path.join(root, Path(source_file).stem + file_format)\n",
    "        else:  # file\n",
    "            out_dir = os.path.dirname(root)\n",
    "            out_path = os.path.join(out_dir, Path(root).stem + file_format)"
   ]
  },
  {
   "cell_type": "code",
   "execution_count": null,
   "id": "4f1f6adc",
   "metadata": {},
   "outputs": [],
   "source": []
  },
  {
   "cell_type": "code",
   "execution_count": null,
   "id": "8d9b84dd",
   "metadata": {},
   "outputs": [],
   "source": []
  },
  {
   "cell_type": "markdown",
   "id": "e8da42c1",
   "metadata": {},
   "source": [
    "### Step 1: Set data source path\n",
    "\n",
    "Provide a full path to the data to be read in (i.e. opened).\n",
    "Currently accepted inputs are:\n",
    "* a directory\n",
    "* a single file\n",
    "\n",
    "All files to be read in *must* have a consistent filename pattern.\n",
    "If a directory is supplied as the data source, all files in any subdirectories that match the filename pattern will be included.\n",
    "\n",
    "S3 bucket data access is currently under development, and requires you are registered with NSIDC as a beta tester for cloud-based ICESat-2 data.\n",
    "icepyx is working to ensure a smooth transition to working with remote files.\n",
    "We'd love your help exploring and testing these features as they become available!"
   ]
  },
  {
   "cell_type": "code",
   "execution_count": null,
   "id": "e683ebf7",
   "metadata": {},
   "outputs": [],
   "source": [
    "urlpath = 's3://nsidc-cumulus-prod-protected/ATLAS/ATL03/004/2019/11/30/ATL03_20191130221008_09930503_004_01.h5'"
   ]
  },
  {
   "cell_type": "code",
   "execution_count": null,
   "id": "8b6edf0c",
   "metadata": {},
   "outputs": [],
   "source": [
    "filepath = '/Users/jessica/computing/icepyx/test_data/ATL06-20181214041627-Sample.h5'"
   ]
  },
  {
   "cell_type": "code",
   "execution_count": null,
   "id": "9cde6679",
   "metadata": {},
   "outputs": [],
   "source": [
    "path = '/Users/jessica/computing/icepyx/test_data/'"
   ]
  },
  {
   "cell_type": "code",
   "execution_count": null,
   "id": "8fcfc887",
   "metadata": {},
   "outputs": [],
   "source": [
    "filepath2 = '/Users/jessica/computing/icepyx/test_data/test_subdir/ATL03_20191130221008_09930503_004_01.h5'"
   ]
  },
  {
   "cell_type": "markdown",
   "id": "92743496",
   "metadata": {},
   "source": [
    "### Step 2: Create a filename pattern for your data files\n",
    "\n",
    "Files provided by NSIDC match the format `\"ATL{product:2}_{datetime:%Y%m%d%H%M%S}_{rgt:4}{cycle:2}{orbitsegment:2}_{version:3}_{revision:2}.h5\"` where the parameters in curly brackets indicate a parameter name (left of the colin) and character length or format (right of the colin).\n",
    "Some of this information is used during data opening to help correctly read and label the data within the data structure, particularly when multiple files are opened simultaneously.\n",
    "\n",
    "By default, icepyx will assume your filenames follow the default format.\n",
    "However, you can easily read in other ICESat-2 data files by supplying your own filename pattern.\n",
    "For instance, `pattern=\"ATL{product:2}-{datetime:%Y%m%d%H%M%S}-Sample.h5\"`."
   ]
  },
  {
   "cell_type": "code",
   "execution_count": null,
   "id": "7318abd0",
   "metadata": {},
   "outputs": [],
   "source": [
    "pattern = 'ATL06-{datetime:%Y%m%d%H%M%S}-Sample.h5'\n",
    "# pattern = 'ATL{product:2}-{datetime:%Y%m%d%H%M%S}-Sample.h5'"
   ]
  },
  {
   "cell_type": "code",
   "execution_count": null,
   "id": "f43e8664",
   "metadata": {},
   "outputs": [],
   "source": [
    "pattern = \"ATL{product:2}_{datetime:%Y%m%d%H%M%S}_{rgt:4}{cycle:2}{orbitsegment:2}_{version:3}_{revision:2}.h5\""
   ]
  },
  {
   "cell_type": "code",
   "execution_count": null,
   "id": "6aec1a70",
   "metadata": {},
   "outputs": [],
   "source": [
    "pattern = \"processed_ATL{product:2}_{datetime:%Y%m%d%H%M%S}_{rgt:4}{cycle:2}{orbitsegment:2}_{version:3}_{revision:2}.h5\""
   ]
  },
  {
   "cell_type": "markdown",
   "id": "4275b04c",
   "metadata": {},
   "source": [
    "### Step 3: Create an icepyx read object\n",
    "\n",
    "The `Read` object has two required inputs:\n",
    "- `path` = a string with the full file path or full directory path to your hdf5 (.h5) format files.\n",
    "- `product` = the data product you're working with, also known as the \"short name\".\n",
    "\n",
    "The `Read` object also accepts two optional keyword inputs:\n",
    "- `pattern` = a formatted string indicating the filename pattern required for Intake's path_as_pattern argument.\n",
    "- `catalog` = a string with the full path to an Intake catalog, for users who wish to use their own catalog (note this may have unintended consequenses if multiple granules are being combined)."
   ]
  },
  {
   "cell_type": "code",
   "execution_count": null,
   "id": "39bd7eb8",
   "metadata": {
    "scrolled": true
   },
   "outputs": [],
   "source": [
    "reader = ipx.Read(path, \"ATL06\", pattern) # or ipx.Read(filepath, \"ATLXX\") if your filenames match the defualt pattern"
   ]
  },
  {
   "cell_type": "code",
   "execution_count": 12,
   "id": "6c9ebc4a",
   "metadata": {},
   "outputs": [
    {
     "data": {
      "text/plain": [
       "['/Users/jessica/computing/icepyx/test_data/processed_ATL06_20190225121032_09020203_004_01.h5',\n",
       " '/Users/jessica/computing/icepyx/test_data/processed_ATL06_20190226005526_09100205_004_01.h5',\n",
       " '/Users/jessica/computing/icepyx/test_data/processed_ATL06_20190222010344_08490205_004_01.h5']"
      ]
     },
     "execution_count": 12,
     "metadata": {},
     "output_type": "execute_result"
    }
   ],
   "source": [
    "#reader = ipx.Read(path, \"ATL06\", pattern) # or ipx.Read(filepath, \"ATLXX\") if your filenames match the defualt pattern06\", pattern) # or ipx.Read(filepath, \"ATLXX\") if your filenames match the defualt patternDEL\n",
    "reader._filelist"
   ]
  },
  {
   "cell_type": "markdown",
   "id": "da8d8024",
   "metadata": {},
   "source": [
    "### Step 4: Specify variables to be read in\n",
    "\n",
    "To load your data into memory or prepare it for analysis, icepyx needs is which variables you'd like to read in.\n",
    "If you've used icepyx to download data from NSIDC with variable subsetting (which is the default), then you may already be familiar with the icepyx `Variables` module and how to create and modify lists of variables.\n",
    "We showcase a specific case here, but we encourage you to check out [the icepyx Variables example](https://github.com/icesat2py/icepyx/blob/main/doc/examples/Working_with_ICESat-2_Data_Variables.ipynb) for a thorough trip through how to create and manipulate lists of ICESat-2 variable paths (examples are provided for multiple data products).\n",
    "\n",
    "You can use a default list that loads commonly used variables for your data product, or create your own list of variables to be read in.\n",
    "icepyx will determine what variables are available for you to read in by creating a list from one of your source files.\n",
    "If you have multiple files that you're reading in, icepyx will automatically generate a list of filenames and take the first one to get the list of available variables.\n",
    "\n",
    "Thus, if you have different variables available across files (even from the same data product), you may run into issues and need to come up with a workaround (we can help you do so!).\n",
    "We anticipate most users will have the minimum set of variables they are seeking to load available across all data files, so we're not currently developing this feature.\n",
    "Please get in touch if it would be a helpful feature for you or if you encounter this problem!"
   ]
  },
  {
   "cell_type": "markdown",
   "id": "55092d1b",
   "metadata": {},
   "source": [
    "For a basic case, let's say we want to read in height, latitude, and longitude for all beam pairs.\n",
    "We create our variables list as"
   ]
  },
  {
   "cell_type": "code",
   "execution_count": null,
   "id": "e3734e09",
   "metadata": {},
   "outputs": [],
   "source": [
    "# reader.vars.append(var_list=['h_li', \"latitude\", \"longitude\"])\n",
    "reader.vars.append(beam_list=['gt1l', 'gt3r'], var_list=['h_li', \"latitude\", \"longitude\"])"
   ]
  },
  {
   "cell_type": "markdown",
   "id": "fff0bb19",
   "metadata": {},
   "source": [
    "Then we can view a dictionary of the variables we'd like to read in."
   ]
  },
  {
   "cell_type": "code",
   "execution_count": 9,
   "id": "e5456e36",
   "metadata": {},
   "outputs": [
    {
     "data": {
      "text/plain": [
       "{'sc_orient': ['orbit_info/sc_orient'],\n",
       " 'atlas_sdp_gps_epoch': ['ancillary_data/atlas_sdp_gps_epoch'],\n",
       " 'cycle_number': ['orbit_info/cycle_number'],\n",
       " 'rgt': ['orbit_info/rgt'],\n",
       " 'data_start_utc': ['ancillary_data/data_start_utc'],\n",
       " 'data_end_utc': ['ancillary_data/data_end_utc'],\n",
       " 'h_li': ['gt1l/land_ice_segments/h_li', 'gt3r/land_ice_segments/h_li'],\n",
       " 'latitude': ['gt1l/land_ice_segments/latitude',\n",
       "  'gt3r/land_ice_segments/latitude'],\n",
       " 'longitude': ['gt1l/land_ice_segments/longitude',\n",
       "  'gt3r/land_ice_segments/longitude']}"
      ]
     },
     "execution_count": 9,
     "metadata": {},
     "output_type": "execute_result"
    }
   ],
   "source": [
    "reader.vars.wanted"
   ]
  },
  {
   "cell_type": "markdown",
   "id": "9d5b50b5",
   "metadata": {},
   "source": [
    "Don't forget - if you need to start over generating your wanted variables list, it's easy!"
   ]
  },
  {
   "cell_type": "code",
   "execution_count": null,
   "id": "69894391",
   "metadata": {},
   "outputs": [],
   "source": [
    "reader.vars.remove(all=True)"
   ]
  },
  {
   "cell_type": "code",
   "execution_count": null,
   "id": "ff158810",
   "metadata": {},
   "outputs": [],
   "source": []
  },
  {
   "cell_type": "code",
   "execution_count": 10,
   "id": "18d5191e",
   "metadata": {
    "scrolled": true
   },
   "outputs": [],
   "source": [
    "groups_list = ipx.core.variables.list_of_dict_vals(reader.vars.wanted)"
   ]
  },
  {
   "cell_type": "code",
   "execution_count": null,
   "id": "09d08391",
   "metadata": {},
   "outputs": [],
   "source": [
    "wanted_dict, wanted_groups = ipx.core.variables.Variables.parse_var_list(groups_list, tiered=False)\n",
    "wanted_groups_set = set(wanted_groups)\n",
    "# returns the wanted groups as a list of lists with group path string elements separated\n",
    "vgrp, wanted_groups_tiered = ipx.core.variables.Variables.parse_var_list(groups_list, tiered=True)\n",
    "wanted_vars = list(vgrp.keys())"
   ]
  },
  {
   "cell_type": "code",
   "execution_count": null,
   "id": "7e5fa78e",
   "metadata": {},
   "outputs": [],
   "source": [
    "print(wanted_dict)\n",
    "print(wanted_groups)\n",
    "print(vgrp)\n",
    "print(wanted_vars)\n",
    "print(wanted_groups_tiered)"
   ]
  },
  {
   "cell_type": "code",
   "execution_count": null,
   "id": "a66d4639",
   "metadata": {},
   "outputs": [],
   "source": [
    "[print(k) for k,v in wanted_dict.items() if any('gt3r/land_ice_segments' in x for x in v)]"
   ]
  },
  {
   "cell_type": "code",
   "execution_count": null,
   "id": "9d6069e5",
   "metadata": {},
   "outputs": [],
   "source": [
    "wanted_vars[i] for i, x in enumerate(wanted_dict) if grp_path in x"
   ]
  },
  {
   "cell_type": "code",
   "execution_count": 11,
   "id": "636db08d",
   "metadata": {},
   "outputs": [
    {
     "name": "stdout",
     "output_type": "stream",
     "text": [
      "['orbit_info/sc_orient', 'ancillary_data/atlas_sdp_gps_epoch', 'orbit_info/cycle_number', 'orbit_info/rgt', 'ancillary_data/data_start_utc', 'ancillary_data/data_end_utc', 'gt1l/land_ice_segments/h_li', 'gt3r/land_ice_segments/h_li', 'gt1l/land_ice_segments/latitude', 'gt3r/land_ice_segments/latitude', 'gt1l/land_ice_segments/longitude', 'gt3r/land_ice_segments/longitude']\n"
     ]
    }
   ],
   "source": []
  },
  {
   "cell_type": "code",
   "execution_count": null,
   "id": "b0967782",
   "metadata": {
    "scrolled": true
   },
   "outputs": [],
   "source": [
    "reader.vars.avail()"
   ]
  },
  {
   "cell_type": "markdown",
   "id": "473de4d7",
   "metadata": {},
   "source": [
    "### Step 5: Loading your data\n",
    "\n",
    "Now that you've set up all the options, you're ready to read your ICESat-2 data into memory!"
   ]
  },
  {
   "cell_type": "code",
   "execution_count": 18,
   "id": "eaabc976",
   "metadata": {
    "scrolled": false
   },
   "outputs": [],
   "source": [
    "ds = reader.load()"
   ]
  },
  {
   "cell_type": "code",
   "execution_count": 19,
   "id": "723256f7",
   "metadata": {},
   "outputs": [
    {
     "data": {
      "text/html": [
       "<div><svg style=\"position: absolute; width: 0; height: 0; overflow: hidden\">\n",
       "<defs>\n",
       "<symbol id=\"icon-database\" viewBox=\"0 0 32 32\">\n",
       "<path d=\"M16 0c-8.837 0-16 2.239-16 5v4c0 2.761 7.163 5 16 5s16-2.239 16-5v-4c0-2.761-7.163-5-16-5z\"></path>\n",
       "<path d=\"M16 17c-8.837 0-16-2.239-16-5v6c0 2.761 7.163 5 16 5s16-2.239 16-5v-6c0 2.761-7.163 5-16 5z\"></path>\n",
       "<path d=\"M16 26c-8.837 0-16-2.239-16-5v6c0 2.761 7.163 5 16 5s16-2.239 16-5v-6c0 2.761-7.163 5-16 5z\"></path>\n",
       "</symbol>\n",
       "<symbol id=\"icon-file-text2\" viewBox=\"0 0 32 32\">\n",
       "<path d=\"M28.681 7.159c-0.694-0.947-1.662-2.053-2.724-3.116s-2.169-2.030-3.116-2.724c-1.612-1.182-2.393-1.319-2.841-1.319h-15.5c-1.378 0-2.5 1.121-2.5 2.5v27c0 1.378 1.122 2.5 2.5 2.5h23c1.378 0 2.5-1.122 2.5-2.5v-19.5c0-0.448-0.137-1.23-1.319-2.841zM24.543 5.457c0.959 0.959 1.712 1.825 2.268 2.543h-4.811v-4.811c0.718 0.556 1.584 1.309 2.543 2.268zM28 29.5c0 0.271-0.229 0.5-0.5 0.5h-23c-0.271 0-0.5-0.229-0.5-0.5v-27c0-0.271 0.229-0.5 0.5-0.5 0 0 15.499-0 15.5 0v7c0 0.552 0.448 1 1 1h7v19.5z\"></path>\n",
       "<path d=\"M23 26h-14c-0.552 0-1-0.448-1-1s0.448-1 1-1h14c0.552 0 1 0.448 1 1s-0.448 1-1 1z\"></path>\n",
       "<path d=\"M23 22h-14c-0.552 0-1-0.448-1-1s0.448-1 1-1h14c0.552 0 1 0.448 1 1s-0.448 1-1 1z\"></path>\n",
       "<path d=\"M23 18h-14c-0.552 0-1-0.448-1-1s0.448-1 1-1h14c0.552 0 1 0.448 1 1s-0.448 1-1 1z\"></path>\n",
       "</symbol>\n",
       "</defs>\n",
       "</svg>\n",
       "<style>/* CSS stylesheet for displaying xarray objects in jupyterlab.\n",
       " *\n",
       " */\n",
       "\n",
       ":root {\n",
       "  --xr-font-color0: var(--jp-content-font-color0, rgba(0, 0, 0, 1));\n",
       "  --xr-font-color2: var(--jp-content-font-color2, rgba(0, 0, 0, 0.54));\n",
       "  --xr-font-color3: var(--jp-content-font-color3, rgba(0, 0, 0, 0.38));\n",
       "  --xr-border-color: var(--jp-border-color2, #e0e0e0);\n",
       "  --xr-disabled-color: var(--jp-layout-color3, #bdbdbd);\n",
       "  --xr-background-color: var(--jp-layout-color0, white);\n",
       "  --xr-background-color-row-even: var(--jp-layout-color1, white);\n",
       "  --xr-background-color-row-odd: var(--jp-layout-color2, #eeeeee);\n",
       "}\n",
       "\n",
       "html[theme=dark],\n",
       "body.vscode-dark {\n",
       "  --xr-font-color0: rgba(255, 255, 255, 1);\n",
       "  --xr-font-color2: rgba(255, 255, 255, 0.54);\n",
       "  --xr-font-color3: rgba(255, 255, 255, 0.38);\n",
       "  --xr-border-color: #1F1F1F;\n",
       "  --xr-disabled-color: #515151;\n",
       "  --xr-background-color: #111111;\n",
       "  --xr-background-color-row-even: #111111;\n",
       "  --xr-background-color-row-odd: #313131;\n",
       "}\n",
       "\n",
       ".xr-wrap {\n",
       "  display: block;\n",
       "  min-width: 300px;\n",
       "  max-width: 700px;\n",
       "}\n",
       "\n",
       ".xr-text-repr-fallback {\n",
       "  /* fallback to plain text repr when CSS is not injected (untrusted notebook) */\n",
       "  display: none;\n",
       "}\n",
       "\n",
       ".xr-header {\n",
       "  padding-top: 6px;\n",
       "  padding-bottom: 6px;\n",
       "  margin-bottom: 4px;\n",
       "  border-bottom: solid 1px var(--xr-border-color);\n",
       "}\n",
       "\n",
       ".xr-header > div,\n",
       ".xr-header > ul {\n",
       "  display: inline;\n",
       "  margin-top: 0;\n",
       "  margin-bottom: 0;\n",
       "}\n",
       "\n",
       ".xr-obj-type,\n",
       ".xr-array-name {\n",
       "  margin-left: 2px;\n",
       "  margin-right: 10px;\n",
       "}\n",
       "\n",
       ".xr-obj-type {\n",
       "  color: var(--xr-font-color2);\n",
       "}\n",
       "\n",
       ".xr-sections {\n",
       "  padding-left: 0 !important;\n",
       "  display: grid;\n",
       "  grid-template-columns: 150px auto auto 1fr 20px 20px;\n",
       "}\n",
       "\n",
       ".xr-section-item {\n",
       "  display: contents;\n",
       "}\n",
       "\n",
       ".xr-section-item input {\n",
       "  display: none;\n",
       "}\n",
       "\n",
       ".xr-section-item input + label {\n",
       "  color: var(--xr-disabled-color);\n",
       "}\n",
       "\n",
       ".xr-section-item input:enabled + label {\n",
       "  cursor: pointer;\n",
       "  color: var(--xr-font-color2);\n",
       "}\n",
       "\n",
       ".xr-section-item input:enabled + label:hover {\n",
       "  color: var(--xr-font-color0);\n",
       "}\n",
       "\n",
       ".xr-section-summary {\n",
       "  grid-column: 1;\n",
       "  color: var(--xr-font-color2);\n",
       "  font-weight: 500;\n",
       "}\n",
       "\n",
       ".xr-section-summary > span {\n",
       "  display: inline-block;\n",
       "  padding-left: 0.5em;\n",
       "}\n",
       "\n",
       ".xr-section-summary-in:disabled + label {\n",
       "  color: var(--xr-font-color2);\n",
       "}\n",
       "\n",
       ".xr-section-summary-in + label:before {\n",
       "  display: inline-block;\n",
       "  content: '►';\n",
       "  font-size: 11px;\n",
       "  width: 15px;\n",
       "  text-align: center;\n",
       "}\n",
       "\n",
       ".xr-section-summary-in:disabled + label:before {\n",
       "  color: var(--xr-disabled-color);\n",
       "}\n",
       "\n",
       ".xr-section-summary-in:checked + label:before {\n",
       "  content: '▼';\n",
       "}\n",
       "\n",
       ".xr-section-summary-in:checked + label > span {\n",
       "  display: none;\n",
       "}\n",
       "\n",
       ".xr-section-summary,\n",
       ".xr-section-inline-details {\n",
       "  padding-top: 4px;\n",
       "  padding-bottom: 4px;\n",
       "}\n",
       "\n",
       ".xr-section-inline-details {\n",
       "  grid-column: 2 / -1;\n",
       "}\n",
       "\n",
       ".xr-section-details {\n",
       "  display: none;\n",
       "  grid-column: 1 / -1;\n",
       "  margin-bottom: 5px;\n",
       "}\n",
       "\n",
       ".xr-section-summary-in:checked ~ .xr-section-details {\n",
       "  display: contents;\n",
       "}\n",
       "\n",
       ".xr-array-wrap {\n",
       "  grid-column: 1 / -1;\n",
       "  display: grid;\n",
       "  grid-template-columns: 20px auto;\n",
       "}\n",
       "\n",
       ".xr-array-wrap > label {\n",
       "  grid-column: 1;\n",
       "  vertical-align: top;\n",
       "}\n",
       "\n",
       ".xr-preview {\n",
       "  color: var(--xr-font-color3);\n",
       "}\n",
       "\n",
       ".xr-array-preview,\n",
       ".xr-array-data {\n",
       "  padding: 0 5px !important;\n",
       "  grid-column: 2;\n",
       "}\n",
       "\n",
       ".xr-array-data,\n",
       ".xr-array-in:checked ~ .xr-array-preview {\n",
       "  display: none;\n",
       "}\n",
       "\n",
       ".xr-array-in:checked ~ .xr-array-data,\n",
       ".xr-array-preview {\n",
       "  display: inline-block;\n",
       "}\n",
       "\n",
       ".xr-dim-list {\n",
       "  display: inline-block !important;\n",
       "  list-style: none;\n",
       "  padding: 0 !important;\n",
       "  margin: 0;\n",
       "}\n",
       "\n",
       ".xr-dim-list li {\n",
       "  display: inline-block;\n",
       "  padding: 0;\n",
       "  margin: 0;\n",
       "}\n",
       "\n",
       ".xr-dim-list:before {\n",
       "  content: '(';\n",
       "}\n",
       "\n",
       ".xr-dim-list:after {\n",
       "  content: ')';\n",
       "}\n",
       "\n",
       ".xr-dim-list li:not(:last-child):after {\n",
       "  content: ',';\n",
       "  padding-right: 5px;\n",
       "}\n",
       "\n",
       ".xr-has-index {\n",
       "  font-weight: bold;\n",
       "}\n",
       "\n",
       ".xr-var-list,\n",
       ".xr-var-item {\n",
       "  display: contents;\n",
       "}\n",
       "\n",
       ".xr-var-item > div,\n",
       ".xr-var-item label,\n",
       ".xr-var-item > .xr-var-name span {\n",
       "  background-color: var(--xr-background-color-row-even);\n",
       "  margin-bottom: 0;\n",
       "}\n",
       "\n",
       ".xr-var-item > .xr-var-name:hover span {\n",
       "  padding-right: 5px;\n",
       "}\n",
       "\n",
       ".xr-var-list > li:nth-child(odd) > div,\n",
       ".xr-var-list > li:nth-child(odd) > label,\n",
       ".xr-var-list > li:nth-child(odd) > .xr-var-name span {\n",
       "  background-color: var(--xr-background-color-row-odd);\n",
       "}\n",
       "\n",
       ".xr-var-name {\n",
       "  grid-column: 1;\n",
       "}\n",
       "\n",
       ".xr-var-dims {\n",
       "  grid-column: 2;\n",
       "}\n",
       "\n",
       ".xr-var-dtype {\n",
       "  grid-column: 3;\n",
       "  text-align: right;\n",
       "  color: var(--xr-font-color2);\n",
       "}\n",
       "\n",
       ".xr-var-preview {\n",
       "  grid-column: 4;\n",
       "}\n",
       "\n",
       ".xr-var-name,\n",
       ".xr-var-dims,\n",
       ".xr-var-dtype,\n",
       ".xr-preview,\n",
       ".xr-attrs dt {\n",
       "  white-space: nowrap;\n",
       "  overflow: hidden;\n",
       "  text-overflow: ellipsis;\n",
       "  padding-right: 10px;\n",
       "}\n",
       "\n",
       ".xr-var-name:hover,\n",
       ".xr-var-dims:hover,\n",
       ".xr-var-dtype:hover,\n",
       ".xr-attrs dt:hover {\n",
       "  overflow: visible;\n",
       "  width: auto;\n",
       "  z-index: 1;\n",
       "}\n",
       "\n",
       ".xr-var-attrs,\n",
       ".xr-var-data {\n",
       "  display: none;\n",
       "  background-color: var(--xr-background-color) !important;\n",
       "  padding-bottom: 5px !important;\n",
       "}\n",
       "\n",
       ".xr-var-attrs-in:checked ~ .xr-var-attrs,\n",
       ".xr-var-data-in:checked ~ .xr-var-data {\n",
       "  display: block;\n",
       "}\n",
       "\n",
       ".xr-var-data > table {\n",
       "  float: right;\n",
       "}\n",
       "\n",
       ".xr-var-name span,\n",
       ".xr-var-data,\n",
       ".xr-attrs {\n",
       "  padding-left: 25px !important;\n",
       "}\n",
       "\n",
       ".xr-attrs,\n",
       ".xr-var-attrs,\n",
       ".xr-var-data {\n",
       "  grid-column: 1 / -1;\n",
       "}\n",
       "\n",
       "dl.xr-attrs {\n",
       "  padding: 0;\n",
       "  margin: 0;\n",
       "  display: grid;\n",
       "  grid-template-columns: 125px auto;\n",
       "}\n",
       "\n",
       ".xr-attrs dt,\n",
       ".xr-attrs dd {\n",
       "  padding: 0;\n",
       "  margin: 0;\n",
       "  float: left;\n",
       "  padding-right: 10px;\n",
       "  width: auto;\n",
       "}\n",
       "\n",
       ".xr-attrs dt {\n",
       "  font-weight: normal;\n",
       "  grid-column: 1;\n",
       "}\n",
       "\n",
       ".xr-attrs dt:hover span {\n",
       "  display: inline-block;\n",
       "  background: var(--xr-background-color);\n",
       "  padding-right: 10px;\n",
       "}\n",
       "\n",
       ".xr-attrs dd {\n",
       "  grid-column: 2;\n",
       "  white-space: pre-wrap;\n",
       "  word-break: break-all;\n",
       "}\n",
       "\n",
       ".xr-icon-database,\n",
       ".xr-icon-file-text2 {\n",
       "  display: inline-block;\n",
       "  vertical-align: middle;\n",
       "  width: 1em;\n",
       "  height: 1.5em !important;\n",
       "  stroke-width: 0;\n",
       "  stroke: currentColor;\n",
       "  fill: currentColor;\n",
       "}\n",
       "</style><pre class='xr-text-repr-fallback'>&lt;xarray.Dataset&gt;\n",
       "Dimensions:              (delta_time: 55654, gran_idx: 3, spot: 2)\n",
       "Coordinates:\n",
       "  * delta_time           (delta_time) datetime64[ns] 2019-02-22T01:06:07.5054...\n",
       "  * gran_idx             (gran_idx) object &#x27;084902&#x27; &#x27;090202&#x27; &#x27;091002&#x27;\n",
       "  * spot                 (spot) int64 2 5\n",
       "    source_file          (gran_idx) &lt;U91 &#x27;/Users/jessica/computing/icepyx/tes...\n",
       "    gt                   (gran_idx, spot) object &#x27;gt3r&#x27; &#x27;gt1l&#x27; ... &#x27;gt3r&#x27; &#x27;gt1l&#x27;\n",
       "Data variables:\n",
       "    sc_orient            (gran_idx) int8 0 0 0\n",
       "    cycle_number         (gran_idx) int8 2 2 2\n",
       "    rgt                  (gran_idx) int16 849 902 910\n",
       "    h_li                 (spot, gran_idx, delta_time) float32 nan nan ... nan\n",
       "    latitude             (spot, gran_idx, delta_time) float64 nan nan ... nan\n",
       "    longitude            (spot, gran_idx, delta_time) float64 nan nan ... nan\n",
       "    atlas_sdp_gps_epoch  (gran_idx) datetime64[ns] 2018-01-01T00:00:18 ... 20...\n",
       "    data_start_utc       (gran_idx) |S27 b&#x27;2019-02-22T01:03:44.199777Z&#x27; ... b...\n",
       "    data_end_utc         (gran_idx) |S27 b&#x27;2019-02-22T01:07:38.112327Z&#x27; ... b...\n",
       "Attributes:\n",
       "    data_product:  ATL06\n",
       "    Description:   The land_ice_height group contains the primary set of deri...\n",
       "    data_rate:     Data within this group are sparse.  Data values are provid...</pre><div class='xr-wrap' hidden><div class='xr-header'><div class='xr-obj-type'>xarray.Dataset</div></div><ul class='xr-sections'><li class='xr-section-item'><input id='section-ee1c26e3-e74b-4870-a45b-9bae5b13ec47' class='xr-section-summary-in' type='checkbox' disabled ><label for='section-ee1c26e3-e74b-4870-a45b-9bae5b13ec47' class='xr-section-summary'  title='Expand/collapse section'>Dimensions:</label><div class='xr-section-inline-details'><ul class='xr-dim-list'><li><span class='xr-has-index'>delta_time</span>: 55654</li><li><span class='xr-has-index'>gran_idx</span>: 3</li><li><span class='xr-has-index'>spot</span>: 2</li></ul></div><div class='xr-section-details'></div></li><li class='xr-section-item'><input id='section-44418434-8a6f-4a0a-b158-97f223ead361' class='xr-section-summary-in' type='checkbox'  checked><label for='section-44418434-8a6f-4a0a-b158-97f223ead361' class='xr-section-summary' >Coordinates: <span>(5)</span></label><div class='xr-section-inline-details'></div><div class='xr-section-details'><ul class='xr-var-list'><li class='xr-var-item'><div class='xr-var-name'><span class='xr-has-index'>delta_time</span></div><div class='xr-var-dims'>(delta_time)</div><div class='xr-var-dtype'>datetime64[ns]</div><div class='xr-var-preview xr-preview'>2019-02-22T01:06:07.505465416 .....</div><input id='attrs-d8e0e584-52fe-4236-ab62-6631c6d5b289' class='xr-var-attrs-in' type='checkbox' ><label for='attrs-d8e0e584-52fe-4236-ab62-6631c6d5b289' title='Show/Hide attributes'><svg class='icon xr-icon-file-text2'><use xlink:href='#icon-file-text2'></use></svg></label><input id='data-330ab6a0-6ce3-4bd6-a262-9d0ab50271db' class='xr-var-data-in' type='checkbox'><label for='data-330ab6a0-6ce3-4bd6-a262-9d0ab50271db' title='Show/Hide data repr'><svg class='icon xr-icon-database'><use xlink:href='#icon-database'></use></svg></label><div class='xr-var-attrs'><dl class='xr-attrs'><dt><span>contentType :</span></dt><dd>referenceInformation</dd><dt><span>description :</span></dt><dd>Number of GPS seconds since the ATLAS SDP epoch. The ATLAS Standard Data Products (SDP) epoch offset is defined within /ancillary_data/atlas_sdp_gps_epoch as the number of GPS seconds between the GPS epoch (1980-01-06T00:00:00.000000Z UTC) and the ATLAS SDP epoch. By adding the offset contained within atlas_sdp_gps_epoch to delta time parameters, the time in gps_seconds relative to the GPS epoch can be computed.</dd><dt><span>long_name :</span></dt><dd>Elapsed GPS seconds</dd><dt><span>source :</span></dt><dd>section 4.4</dd><dt><span>standard_name :</span></dt><dd>time</dd></dl></div><div class='xr-var-data'><pre>array([&#x27;2019-02-22T01:06:07.505465416&#x27;, &#x27;2019-02-22T01:06:07.508282432&#x27;,\n",
       "       &#x27;2019-02-22T01:06:07.511102456&#x27;, ..., &#x27;2019-02-26T00:58:37.200494552&#x27;,\n",
       "       &#x27;2019-02-26T00:58:37.203315744&#x27;, &#x27;2019-02-26T00:58:37.206135968&#x27;],\n",
       "      dtype=&#x27;datetime64[ns]&#x27;)</pre></div></li><li class='xr-var-item'><div class='xr-var-name'><span class='xr-has-index'>gran_idx</span></div><div class='xr-var-dims'>(gran_idx)</div><div class='xr-var-dtype'>object</div><div class='xr-var-preview xr-preview'>&#x27;084902&#x27; &#x27;090202&#x27; &#x27;091002&#x27;</div><input id='attrs-8d88d980-a02e-4a30-9dc7-64b45cbab763' class='xr-var-attrs-in' type='checkbox' disabled><label for='attrs-8d88d980-a02e-4a30-9dc7-64b45cbab763' title='Show/Hide attributes'><svg class='icon xr-icon-file-text2'><use xlink:href='#icon-file-text2'></use></svg></label><input id='data-67d6db7a-0b29-49e6-bbdf-d05597819e87' class='xr-var-data-in' type='checkbox'><label for='data-67d6db7a-0b29-49e6-bbdf-d05597819e87' title='Show/Hide data repr'><svg class='icon xr-icon-database'><use xlink:href='#icon-database'></use></svg></label><div class='xr-var-attrs'><dl class='xr-attrs'></dl></div><div class='xr-var-data'><pre>array([&#x27;084902&#x27;, &#x27;090202&#x27;, &#x27;091002&#x27;], dtype=object)</pre></div></li><li class='xr-var-item'><div class='xr-var-name'><span class='xr-has-index'>spot</span></div><div class='xr-var-dims'>(spot)</div><div class='xr-var-dtype'>int64</div><div class='xr-var-preview xr-preview'>2 5</div><input id='attrs-2dc609a8-4b71-4532-b250-2cbceae131fa' class='xr-var-attrs-in' type='checkbox' disabled><label for='attrs-2dc609a8-4b71-4532-b250-2cbceae131fa' title='Show/Hide attributes'><svg class='icon xr-icon-file-text2'><use xlink:href='#icon-file-text2'></use></svg></label><input id='data-44de4fa5-79d0-4d32-89f0-395584616672' class='xr-var-data-in' type='checkbox'><label for='data-44de4fa5-79d0-4d32-89f0-395584616672' title='Show/Hide data repr'><svg class='icon xr-icon-database'><use xlink:href='#icon-database'></use></svg></label><div class='xr-var-attrs'><dl class='xr-attrs'></dl></div><div class='xr-var-data'><pre>array([2, 5])</pre></div></li><li class='xr-var-item'><div class='xr-var-name'><span>source_file</span></div><div class='xr-var-dims'>(gran_idx)</div><div class='xr-var-dtype'>&lt;U91</div><div class='xr-var-preview xr-preview'>&#x27;/Users/jessica/computing/icepyx...</div><input id='attrs-b5ddcc64-66f4-4f90-8f1d-22d82f284fd0' class='xr-var-attrs-in' type='checkbox' disabled><label for='attrs-b5ddcc64-66f4-4f90-8f1d-22d82f284fd0' title='Show/Hide attributes'><svg class='icon xr-icon-file-text2'><use xlink:href='#icon-file-text2'></use></svg></label><input id='data-04b7364a-d616-42aa-95a7-1ba1bfb2deb2' class='xr-var-data-in' type='checkbox'><label for='data-04b7364a-d616-42aa-95a7-1ba1bfb2deb2' title='Show/Hide data repr'><svg class='icon xr-icon-database'><use xlink:href='#icon-database'></use></svg></label><div class='xr-var-attrs'><dl class='xr-attrs'></dl></div><div class='xr-var-data'><pre>array([&#x27;/Users/jessica/computing/icepyx/test_data/processed_ATL06_20190222010344_08490205_004_01.h5&#x27;,\n",
       "       &#x27;/Users/jessica/computing/icepyx/test_data/processed_ATL06_20190225121032_09020203_004_01.h5&#x27;,\n",
       "       &#x27;/Users/jessica/computing/icepyx/test_data/processed_ATL06_20190226005526_09100205_004_01.h5&#x27;],\n",
       "      dtype=&#x27;&lt;U91&#x27;)</pre></div></li><li class='xr-var-item'><div class='xr-var-name'><span>gt</span></div><div class='xr-var-dims'>(gran_idx, spot)</div><div class='xr-var-dtype'>object</div><div class='xr-var-preview xr-preview'>&#x27;gt3r&#x27; &#x27;gt1l&#x27; ... &#x27;gt3r&#x27; &#x27;gt1l&#x27;</div><input id='attrs-906b7283-4508-48ed-bf08-eefcf31d3d38' class='xr-var-attrs-in' type='checkbox' disabled><label for='attrs-906b7283-4508-48ed-bf08-eefcf31d3d38' title='Show/Hide attributes'><svg class='icon xr-icon-file-text2'><use xlink:href='#icon-file-text2'></use></svg></label><input id='data-e8ce925d-f1f8-4644-b6a8-7cfcd9a49cd8' class='xr-var-data-in' type='checkbox'><label for='data-e8ce925d-f1f8-4644-b6a8-7cfcd9a49cd8' title='Show/Hide data repr'><svg class='icon xr-icon-database'><use xlink:href='#icon-database'></use></svg></label><div class='xr-var-attrs'><dl class='xr-attrs'></dl></div><div class='xr-var-data'><pre>array([[&#x27;gt3r&#x27;, &#x27;gt1l&#x27;],\n",
       "       [&#x27;gt3r&#x27;, &#x27;gt1l&#x27;],\n",
       "       [&#x27;gt3r&#x27;, &#x27;gt1l&#x27;]], dtype=object)</pre></div></li></ul></div></li><li class='xr-section-item'><input id='section-d7fa941c-f6a0-4a16-8c0f-7354a9ed4908' class='xr-section-summary-in' type='checkbox'  checked><label for='section-d7fa941c-f6a0-4a16-8c0f-7354a9ed4908' class='xr-section-summary' >Data variables: <span>(9)</span></label><div class='xr-section-inline-details'></div><div class='xr-section-details'><ul class='xr-var-list'><li class='xr-var-item'><div class='xr-var-name'><span>sc_orient</span></div><div class='xr-var-dims'>(gran_idx)</div><div class='xr-var-dtype'>int8</div><div class='xr-var-preview xr-preview'>0 0 0</div><input id='attrs-daf422b6-abdb-435d-92ea-f343321e7a11' class='xr-var-attrs-in' type='checkbox' disabled><label for='attrs-daf422b6-abdb-435d-92ea-f343321e7a11' title='Show/Hide attributes'><svg class='icon xr-icon-file-text2'><use xlink:href='#icon-file-text2'></use></svg></label><input id='data-141369ae-2b0a-4737-aeae-571b0554b083' class='xr-var-data-in' type='checkbox'><label for='data-141369ae-2b0a-4737-aeae-571b0554b083' title='Show/Hide data repr'><svg class='icon xr-icon-database'><use xlink:href='#icon-database'></use></svg></label><div class='xr-var-attrs'><dl class='xr-attrs'></dl></div><div class='xr-var-data'><pre>array([0, 0, 0], dtype=int8)</pre></div></li><li class='xr-var-item'><div class='xr-var-name'><span>cycle_number</span></div><div class='xr-var-dims'>(gran_idx)</div><div class='xr-var-dtype'>int8</div><div class='xr-var-preview xr-preview'>2 2 2</div><input id='attrs-8c178054-aa2e-4a06-b97c-f7b5d8e93fcf' class='xr-var-attrs-in' type='checkbox' disabled><label for='attrs-8c178054-aa2e-4a06-b97c-f7b5d8e93fcf' title='Show/Hide attributes'><svg class='icon xr-icon-file-text2'><use xlink:href='#icon-file-text2'></use></svg></label><input id='data-4504dabb-9156-4762-aa32-8ecec3227c57' class='xr-var-data-in' type='checkbox'><label for='data-4504dabb-9156-4762-aa32-8ecec3227c57' title='Show/Hide data repr'><svg class='icon xr-icon-database'><use xlink:href='#icon-database'></use></svg></label><div class='xr-var-attrs'><dl class='xr-attrs'></dl></div><div class='xr-var-data'><pre>array([2, 2, 2], dtype=int8)</pre></div></li><li class='xr-var-item'><div class='xr-var-name'><span>rgt</span></div><div class='xr-var-dims'>(gran_idx)</div><div class='xr-var-dtype'>int16</div><div class='xr-var-preview xr-preview'>849 902 910</div><input id='attrs-6eb89263-a372-40c1-96e1-025f5fda0ad1' class='xr-var-attrs-in' type='checkbox' disabled><label for='attrs-6eb89263-a372-40c1-96e1-025f5fda0ad1' title='Show/Hide attributes'><svg class='icon xr-icon-file-text2'><use xlink:href='#icon-file-text2'></use></svg></label><input id='data-2ea71d92-5465-40aa-94d7-6231963b02ce' class='xr-var-data-in' type='checkbox'><label for='data-2ea71d92-5465-40aa-94d7-6231963b02ce' title='Show/Hide data repr'><svg class='icon xr-icon-database'><use xlink:href='#icon-database'></use></svg></label><div class='xr-var-attrs'><dl class='xr-attrs'></dl></div><div class='xr-var-data'><pre>array([849, 902, 910], dtype=int16)</pre></div></li><li class='xr-var-item'><div class='xr-var-name'><span>h_li</span></div><div class='xr-var-dims'>(spot, gran_idx, delta_time)</div><div class='xr-var-dtype'>float32</div><div class='xr-var-preview xr-preview'>nan nan nan nan ... nan nan nan nan</div><input id='attrs-712458c7-8d22-4381-ad6f-9265bd3a28a5' class='xr-var-attrs-in' type='checkbox' ><label for='attrs-712458c7-8d22-4381-ad6f-9265bd3a28a5' title='Show/Hide attributes'><svg class='icon xr-icon-file-text2'><use xlink:href='#icon-file-text2'></use></svg></label><input id='data-cb47ae01-8bb7-408d-a834-af756ed22202' class='xr-var-data-in' type='checkbox'><label for='data-cb47ae01-8bb7-408d-a834-af756ed22202' title='Show/Hide data repr'><svg class='icon xr-icon-database'><use xlink:href='#icon-database'></use></svg></label><div class='xr-var-attrs'><dl class='xr-attrs'><dt><span>contentType :</span></dt><dd>physicalMeasurement</dd><dt><span>description :</span></dt><dd>Standard land-ice segment height determined by land ice algorithm, corrected for first-photon bias, representing the median- based height of the selected PEs</dd><dt><span>long_name :</span></dt><dd>Land Ice height</dd><dt><span>source :</span></dt><dd>section 4.4</dd><dt><span>units :</span></dt><dd>meters</dd></dl></div><div class='xr-var-data'><pre>array([[[       nan,        nan,        nan, ...,        nan,\n",
       "                nan,        nan],\n",
       "        [       nan,        nan,        nan, ...,        nan,\n",
       "                nan,        nan],\n",
       "        [       nan,        nan,        nan, ...,  345.99646,\n",
       "          349.50208,  351.82587]],\n",
       "\n",
       "       [[1091.628  , 1091.9479 , 1091.9801 , ...,        nan,\n",
       "                nan,        nan],\n",
       "        [       nan,        nan,        nan, ...,        nan,\n",
       "                nan,        nan],\n",
       "        [       nan,        nan,        nan, ...,        nan,\n",
       "                nan,        nan]]], dtype=float32)</pre></div></li><li class='xr-var-item'><div class='xr-var-name'><span>latitude</span></div><div class='xr-var-dims'>(spot, gran_idx, delta_time)</div><div class='xr-var-dtype'>float64</div><div class='xr-var-preview xr-preview'>nan nan nan nan ... nan nan nan nan</div><input id='attrs-f8ea3f3b-fee6-4471-a082-b7ce3881ac70' class='xr-var-attrs-in' type='checkbox' ><label for='attrs-f8ea3f3b-fee6-4471-a082-b7ce3881ac70' title='Show/Hide attributes'><svg class='icon xr-icon-file-text2'><use xlink:href='#icon-file-text2'></use></svg></label><input id='data-9c86a2e8-2ca1-4e63-bb83-03c27db8448d' class='xr-var-data-in' type='checkbox'><label for='data-9c86a2e8-2ca1-4e63-bb83-03c27db8448d' title='Show/Hide data repr'><svg class='icon xr-icon-database'><use xlink:href='#icon-database'></use></svg></label><div class='xr-var-attrs'><dl class='xr-attrs'><dt><span>contentType :</span></dt><dd>physicalMeasurement</dd><dt><span>description :</span></dt><dd>Latitude of segment center, WGS84, North=+,</dd><dt><span>long_name :</span></dt><dd>Latitude</dd><dt><span>source :</span></dt><dd>section 3.10</dd><dt><span>standard_name :</span></dt><dd>latitude</dd><dt><span>units :</span></dt><dd>degrees_north</dd><dt><span>valid_max :</span></dt><dd>90.0</dd><dt><span>valid_min :</span></dt><dd>-90.0</dd></dl></div><div class='xr-var-data'><pre>array([[[        nan,         nan,         nan, ...,         nan,\n",
       "                 nan,         nan],\n",
       "        [        nan,         nan,         nan, ...,         nan,\n",
       "                 nan,         nan],\n",
       "        [        nan,         nan,         nan, ..., 68.00044022,\n",
       "         68.000262  , 68.00008377]],\n",
       "\n",
       "       [[70.99997578, 70.99979794, 70.99962009, ...,         nan,\n",
       "                 nan,         nan],\n",
       "        [        nan,         nan,         nan, ...,         nan,\n",
       "                 nan,         nan],\n",
       "        [        nan,         nan,         nan, ...,         nan,\n",
       "                 nan,         nan]]])</pre></div></li><li class='xr-var-item'><div class='xr-var-name'><span>longitude</span></div><div class='xr-var-dims'>(spot, gran_idx, delta_time)</div><div class='xr-var-dtype'>float64</div><div class='xr-var-preview xr-preview'>nan nan nan nan ... nan nan nan nan</div><input id='attrs-08e7f31b-2737-4fc1-9eea-76003d7665ec' class='xr-var-attrs-in' type='checkbox' ><label for='attrs-08e7f31b-2737-4fc1-9eea-76003d7665ec' title='Show/Hide attributes'><svg class='icon xr-icon-file-text2'><use xlink:href='#icon-file-text2'></use></svg></label><input id='data-7eee1360-b037-4b58-bdd2-320f9623e71f' class='xr-var-data-in' type='checkbox'><label for='data-7eee1360-b037-4b58-bdd2-320f9623e71f' title='Show/Hide data repr'><svg class='icon xr-icon-database'><use xlink:href='#icon-database'></use></svg></label><div class='xr-var-attrs'><dl class='xr-attrs'><dt><span>contentType :</span></dt><dd>physicalMeasurement</dd><dt><span>description :</span></dt><dd>Longitude of segment center, , WGS84, East=+</dd><dt><span>long_name :</span></dt><dd>Longitude</dd><dt><span>source :</span></dt><dd>section 3.10</dd><dt><span>standard_name :</span></dt><dd>longitude</dd><dt><span>units :</span></dt><dd>degrees_east</dd><dt><span>valid_max :</span></dt><dd>180.0</dd><dt><span>valid_min :</span></dt><dd>-180.0</dd></dl></div><div class='xr-var-data'><pre>array([[[         nan,          nan,          nan, ...,          nan,\n",
       "                  nan,          nan],\n",
       "        [         nan,          nan,          nan, ...,          nan,\n",
       "                  nan,          nan],\n",
       "        [         nan,          nan,          nan, ..., -52.50070046,\n",
       "         -52.50075639, -52.5008121 ]],\n",
       "\n",
       "       [[-50.48690156, -50.4869738 , -50.48704564, ...,          nan,\n",
       "                  nan,          nan],\n",
       "        [         nan,          nan,          nan, ...,          nan,\n",
       "                  nan,          nan],\n",
       "        [         nan,          nan,          nan, ...,          nan,\n",
       "                  nan,          nan]]])</pre></div></li><li class='xr-var-item'><div class='xr-var-name'><span>atlas_sdp_gps_epoch</span></div><div class='xr-var-dims'>(gran_idx)</div><div class='xr-var-dtype'>datetime64[ns]</div><div class='xr-var-preview xr-preview'>2018-01-01T00:00:18 ... 2018-01-...</div><input id='attrs-905ba7af-bd8e-4601-947f-3111ee2d8b57' class='xr-var-attrs-in' type='checkbox' disabled><label for='attrs-905ba7af-bd8e-4601-947f-3111ee2d8b57' title='Show/Hide attributes'><svg class='icon xr-icon-file-text2'><use xlink:href='#icon-file-text2'></use></svg></label><input id='data-0bd8a9c0-bc86-40cd-99c8-f84a84a36600' class='xr-var-data-in' type='checkbox'><label for='data-0bd8a9c0-bc86-40cd-99c8-f84a84a36600' title='Show/Hide data repr'><svg class='icon xr-icon-database'><use xlink:href='#icon-database'></use></svg></label><div class='xr-var-attrs'><dl class='xr-attrs'></dl></div><div class='xr-var-data'><pre>array([&#x27;2018-01-01T00:00:18.000000000&#x27;, &#x27;2018-01-01T00:00:18.000000000&#x27;,\n",
       "       &#x27;2018-01-01T00:00:18.000000000&#x27;], dtype=&#x27;datetime64[ns]&#x27;)</pre></div></li><li class='xr-var-item'><div class='xr-var-name'><span>data_start_utc</span></div><div class='xr-var-dims'>(gran_idx)</div><div class='xr-var-dtype'>|S27</div><div class='xr-var-preview xr-preview'>b&#x27;2019-02-22T01:03:44.199777Z&#x27; ....</div><input id='attrs-2d2b2cac-4ea1-4642-9ae2-dbacf60332f6' class='xr-var-attrs-in' type='checkbox' disabled><label for='attrs-2d2b2cac-4ea1-4642-9ae2-dbacf60332f6' title='Show/Hide attributes'><svg class='icon xr-icon-file-text2'><use xlink:href='#icon-file-text2'></use></svg></label><input id='data-709379b1-0dd2-4619-a221-d019544bd12f' class='xr-var-data-in' type='checkbox'><label for='data-709379b1-0dd2-4619-a221-d019544bd12f' title='Show/Hide data repr'><svg class='icon xr-icon-database'><use xlink:href='#icon-database'></use></svg></label><div class='xr-var-attrs'><dl class='xr-attrs'></dl></div><div class='xr-var-data'><pre>array([b&#x27;2019-02-22T01:03:44.199777Z&#x27;, b&#x27;2019-02-25T12:10:49.539407Z&#x27;,\n",
       "       b&#x27;2019-02-26T00:55:25.977601Z&#x27;], dtype=&#x27;|S27&#x27;)</pre></div></li><li class='xr-var-item'><div class='xr-var-name'><span>data_end_utc</span></div><div class='xr-var-dims'>(gran_idx)</div><div class='xr-var-dtype'>|S27</div><div class='xr-var-preview xr-preview'>b&#x27;2019-02-22T01:07:38.112327Z&#x27; ....</div><input id='attrs-1eed327c-e5ac-4b01-b009-72ee122cd189' class='xr-var-attrs-in' type='checkbox' disabled><label for='attrs-1eed327c-e5ac-4b01-b009-72ee122cd189' title='Show/Hide attributes'><svg class='icon xr-icon-file-text2'><use xlink:href='#icon-file-text2'></use></svg></label><input id='data-c22885c8-76c3-4d0b-b5cf-1b5964bbabe9' class='xr-var-data-in' type='checkbox'><label for='data-c22885c8-76c3-4d0b-b5cf-1b5964bbabe9' title='Show/Hide data repr'><svg class='icon xr-icon-database'><use xlink:href='#icon-database'></use></svg></label><div class='xr-var-attrs'><dl class='xr-attrs'></dl></div><div class='xr-var-data'><pre>array([b&#x27;2019-02-22T01:07:38.112327Z&#x27;, b&#x27;2019-02-25T12:15:58.020072Z&#x27;,\n",
       "       b&#x27;2019-02-26T00:59:21.044130Z&#x27;], dtype=&#x27;|S27&#x27;)</pre></div></li></ul></div></li><li class='xr-section-item'><input id='section-d9243a21-9d6f-4af8-8eaf-8a71f024e0a5' class='xr-section-summary-in' type='checkbox'  checked><label for='section-d9243a21-9d6f-4af8-8eaf-8a71f024e0a5' class='xr-section-summary' >Attributes: <span>(3)</span></label><div class='xr-section-inline-details'></div><div class='xr-section-details'><dl class='xr-attrs'><dt><span>data_product :</span></dt><dd>ATL06</dd><dt><span>Description :</span></dt><dd>The land_ice_height group contains the primary set of derived ATL06 products. This includes geolocation, height, and standard error and quality measures for each segment. This group is sparse, meaning that parameters are provided only for pairs of segments for which at least one beam has a valid surface-height measurement.</dd><dt><span>data_rate :</span></dt><dd>Data within this group are sparse.  Data values are provided only for those ICESat-2 20m segments where at least one beam has a valid land ice height measurement.</dd></dl></div></li></ul></div></div>"
      ],
      "text/plain": [
       "<xarray.Dataset>\n",
       "Dimensions:              (delta_time: 55654, gran_idx: 3, spot: 2)\n",
       "Coordinates:\n",
       "  * delta_time           (delta_time) datetime64[ns] 2019-02-22T01:06:07.5054...\n",
       "  * gran_idx             (gran_idx) object '084902' '090202' '091002'\n",
       "  * spot                 (spot) int64 2 5\n",
       "    source_file          (gran_idx) <U91 '/Users/jessica/computing/icepyx/tes...\n",
       "    gt                   (gran_idx, spot) object 'gt3r' 'gt1l' ... 'gt3r' 'gt1l'\n",
       "Data variables:\n",
       "    sc_orient            (gran_idx) int8 0 0 0\n",
       "    cycle_number         (gran_idx) int8 2 2 2\n",
       "    rgt                  (gran_idx) int16 849 902 910\n",
       "    h_li                 (spot, gran_idx, delta_time) float32 nan nan ... nan\n",
       "    latitude             (spot, gran_idx, delta_time) float64 nan nan ... nan\n",
       "    longitude            (spot, gran_idx, delta_time) float64 nan nan ... nan\n",
       "    atlas_sdp_gps_epoch  (gran_idx) datetime64[ns] 2018-01-01T00:00:18 ... 20...\n",
       "    data_start_utc       (gran_idx) |S27 b'2019-02-22T01:03:44.199777Z' ... b...\n",
       "    data_end_utc         (gran_idx) |S27 b'2019-02-22T01:07:38.112327Z' ... b...\n",
       "Attributes:\n",
       "    data_product:  ATL06\n",
       "    Description:   The land_ice_height group contains the primary set of deri...\n",
       "    data_rate:     Data within this group are sparse.  Data values are provid..."
      ]
     },
     "execution_count": 19,
     "metadata": {},
     "output_type": "execute_result"
    }
   ],
   "source": [
    "ds"
   ]
  },
  {
   "cell_type": "markdown",
   "id": "5fb712ac",
   "metadata": {},
   "source": [
    "### On to data analysis!\n",
    "\n",
    "From here, you can begin your analysis.\n",
    "Ultimately, icepyx aims to include an Xarray extension with ICESat-2 aware functions that allow you to do things like easily use only data from strong beams.\n",
    "That functionality is still in development.\n",
    "For fun, we've included a basic plot made with Xarray's built in functionality."
   ]
  },
  {
   "cell_type": "code",
   "execution_count": null,
   "id": "1d6f4560",
   "metadata": {},
   "outputs": [],
   "source": [
    "ds.plot.scatter(x=\"longitude\", y=\"latitude\")"
   ]
  },
  {
   "cell_type": "code",
   "execution_count": null,
   "id": "4aefa519",
   "metadata": {},
   "outputs": [],
   "source": []
  },
  {
   "cell_type": "code",
   "execution_count": null,
   "id": "1b250545",
   "metadata": {},
   "outputs": [],
   "source": [
    "# next step (but another PR): xarray extension with icesat-2 aware functions (like \"get_strong_beams\", etc.)"
   ]
  },
  {
   "cell_type": "code",
   "execution_count": null,
   "id": "08a2c318",
   "metadata": {},
   "outputs": [],
   "source": []
  },
  {
   "cell_type": "code",
   "execution_count": null,
   "id": "523e0b45",
   "metadata": {},
   "outputs": [],
   "source": [
    "import h5py"
   ]
  },
  {
   "cell_type": "code",
   "execution_count": null,
   "id": "f48c9282",
   "metadata": {},
   "outputs": [],
   "source": [
    "with h5py.File(filepath, \"r\") as fi:\n",
    "            try:\n",
    "\n",
    "                # Read in varibales of interest (more can be added!)\n",
    "                dac = fi[group[k] + \"/land_ice_segments/geophysical/dac\"][:]\n",
    "                lat = fi[group[k] + \"/land_ice_segments/latitude\"][:]\n",
    "                lon = fi[group[k] + \"/land_ice_segments/longitude\"][:]\n",
    "            except:\n",
    "                pass"
   ]
  },
  {
   "cell_type": "code",
   "execution_count": null,
   "id": "52a487b0",
   "metadata": {},
   "outputs": [],
   "source": [
    "fi = h5py.File(filepath, \"r\")"
   ]
  },
  {
   "cell_type": "code",
   "execution_count": null,
   "id": "51edf87d",
   "metadata": {},
   "outputs": [],
   "source": [
    "print(fi[\"gt1l\"].attrs.keys())\n",
    "print(fi[\"gt1l\"].attrs[\"atlas_spot_number\"])\n",
    "print(fi[\"gt1l\"].attrs[\"sc_orientation\"])"
   ]
  },
  {
   "cell_type": "code",
   "execution_count": null,
   "id": "dc9a8198",
   "metadata": {},
   "outputs": [],
   "source": [
    "grp = fi[\"ancillary_data\"]"
   ]
  },
  {
   "cell_type": "code",
   "execution_count": null,
   "id": "0ce373b2",
   "metadata": {},
   "outputs": [],
   "source": [
    "def add_item(item):\n",
    "    print(item)\n",
    "    return item\n",
    "    \n",
    "for var in grp.visit(add_item):\n",
    "    print(grp.visititems(var))"
   ]
  },
  {
   "cell_type": "code",
   "execution_count": null,
   "id": "a1055abe",
   "metadata": {},
   "outputs": [],
   "source": []
  },
  {
   "cell_type": "code",
   "execution_count": null,
   "id": "74c9db8c",
   "metadata": {},
   "outputs": [],
   "source": []
  },
  {
   "cell_type": "markdown",
   "id": "6edfbb25",
   "metadata": {},
   "source": [
    "### More on Intake catalogs and the read object\n",
    "\n",
    "As anyone familiar with ICESat-2 hdf5 files knows, one of the challenges to reading in data is looping through all of the beam pairs for each track.\n",
    "The icepyx read module takes advantage of icepyx's variables module, which has some awareness of ICESat-2 data and uses that to save the user the trouble of having to loop through each beam pair.\n",
    "The `reader.load()` function does this by automatically creating minimal Intake catalogs for each variable path, reading in the data, and merging each variable into a ready-to-analyze Xarray DataSet.\n",
    "The Intake savvy user may wish to view the template catalog or use an existing catalog."
   ]
  },
  {
   "cell_type": "markdown",
   "id": "0f0076f9",
   "metadata": {},
   "source": [
    "#### Viewing the template catalog\n",
    "\n",
    "You can access the ICESat-2 catalog template as an attribute of the read object.\n",
    "\n",
    "***NOTE: accessing `reader.is2catalog` creates a template with a placeholder in the 'group' parameter; thus, it will not work to actually read in data***"
   ]
  },
  {
   "cell_type": "code",
   "execution_count": null,
   "id": "2de29fd8",
   "metadata": {
    "scrolled": true
   },
   "outputs": [],
   "source": [
    "reader.is2catalog"
   ]
  },
  {
   "cell_type": "code",
   "execution_count": null,
   "id": "7a5deef8",
   "metadata": {},
   "outputs": [],
   "source": [
    "reader.is2catalog.gui"
   ]
  },
  {
   "cell_type": "markdown",
   "id": "fef43556",
   "metadata": {},
   "source": [
    "#### Use an existing catalog\n",
    "If you already have a catalog for your data, you can supply that when you create the read object."
   ]
  },
  {
   "cell_type": "code",
   "execution_count": null,
   "id": "64986a60",
   "metadata": {},
   "outputs": [],
   "source": [
    "catpath = '/Users/jessica/computing/icepyx/test_data/test_catalog.yml'\n",
    "reader = ipx.Read(filepath, pattern, catpath)"
   ]
  },
  {
   "cell_type": "markdown",
   "id": "cf930e0a",
   "metadata": {},
   "source": [
    "Then, you can use the catalog you supplied by calling intake's `read` directly to read in the specified data variable."
   ]
  },
  {
   "cell_type": "code",
   "execution_count": null,
   "id": "dd0e086a",
   "metadata": {},
   "outputs": [],
   "source": [
    "ds = reader.is2catalog.read()"
   ]
  },
  {
   "cell_type": "markdown",
   "id": "60b1a304",
   "metadata": {},
   "source": [
    "***NOTE: this means that you will only be able to read in a single data variable!***\n",
    "\n",
    "To take advantage of icepyx's knowledge of ICESat-2 data nesting of beam pairs and read in multiple related variables at once, you must use the variable approach outlined earlier in this tutorial."
   ]
  },
  {
   "cell_type": "code",
   "execution_count": null,
   "id": "f5e3a221",
   "metadata": {},
   "outputs": [],
   "source": [
    "ds = reader.load()\n",
    "ds"
   ]
  },
  {
   "cell_type": "markdown",
   "id": "d56fc41c",
   "metadata": {},
   "source": [
    "#### More customization options\n",
    "\n",
    "If you'd like to use the icepyx ICESat-2 Catalog template to create your own customized catalog, we recommend that you access the `build_catalog` function directly, which returns an Intake Catalog instance.\n",
    "\n",
    "This function accepts as keyword input arguments (kwargs) dictionaries with appropriate keys (depending on the Intake driver you are using).\n",
    "The simplest version of this is specifying the variable parameters and paths of interest.\n",
    "`var_paths` may contain \"variables\", each of which must then be further defined by `var_path_params`.\n",
    "You cannot use glob-like path syntax to access variables (so `var_path = '/*/land_ice_segments'` is NOT VALID)."
   ]
  },
  {
   "cell_type": "code",
   "execution_count": null,
   "id": "f174f885",
   "metadata": {
    "scrolled": true
   },
   "outputs": [],
   "source": [
    "import icepyx.core.is2cat as is2cat\n",
    "\n",
    "# build a custom ICESat-2 catalog with a group and parameter\n",
    "cat = is2cat.build_catalog(var_paths = \"/{{gt}}/land_ice_segments\",\n",
    "                     var_path_params = [{\"name\": \"gt\",\n",
    "                                         \"description\": \"Ground track\",\n",
    "                                         \"type\": \"str\",\n",
    "                                         \"default\": \"gt1l\",\n",
    "                                         \"allowed\": [\"gt1l\", \"gt1r\", \"gt2l\", \"gt2r\", \"gt3l\", \"gt3r\"]\n",
    "                                        }]\n",
    "                    )"
   ]
  },
  {
   "cell_type": "markdown",
   "id": "bab9c949",
   "metadata": {},
   "source": [
    "#### Saving your catalog\n",
    "If you create a highly customized ICESat-2 catalog, you can use Intake's `save` to export it as a .yml file.\n",
    "\n",
    "Don't forget you can easily use an existing catalog (such as this highly customized one you just made) to read in your data with `reader = ipx.Read(filepath, pattern, catalog)` (so it's as easy as re-creating your reader object with your modified catalog)."
   ]
  },
  {
   "cell_type": "code",
   "execution_count": null,
   "id": "30f0122a",
   "metadata": {},
   "outputs": [],
   "source": [
    "catpath = '/Users/jessica/computing/icepyx/test_data/test_catalog.yml'\n",
    "cat.save(catpath)"
   ]
  },
  {
   "cell_type": "code",
   "execution_count": null,
   "id": "330c01f9",
   "metadata": {},
   "outputs": [],
   "source": [
    "# DEL\n",
    "readcatalog = intake.open_catalog(catpath)"
   ]
  }
 ],
 "metadata": {
  "kernelspec": {
   "display_name": "Python 3",
   "language": "python",
   "name": "python3"
  },
  "language_info": {
   "codemirror_mode": {
    "name": "ipython",
    "version": 3
   },
   "file_extension": ".py",
   "mimetype": "text/x-python",
   "name": "python",
   "nbconvert_exporter": "python",
   "pygments_lexer": "ipython3",
   "version": "3.9.4"
  }
 },
 "nbformat": 4,
 "nbformat_minor": 5
}
