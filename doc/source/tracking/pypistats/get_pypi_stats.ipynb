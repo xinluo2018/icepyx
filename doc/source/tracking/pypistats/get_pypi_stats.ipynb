{
 "cells": [
  {
   "cell_type": "markdown",
   "metadata": {},
   "source": [
    "## icepyx PyPI Statistics\n",
    "Use PyPIStats library to get data on PyPI downloads of icepyx (or any other package)\n",
    "\n",
    "See the [pypistats website](https://github.com/hugovk/pypistats) for potential calls, options, and formats (e.g. markdown, rst, html, json, numpy, pandas)\n",
    "\n",
    "**Note: currently this needs to be run manually (should be able to run all cells) and the changes committed.**"
   ]
  },
  {
   "cell_type": "code",
   "execution_count": 6,
   "metadata": {},
   "outputs": [],
   "source": [
    "import os\n",
    "import pypistats\n",
    "import pandas as pd\n",
    "# !pip install --upgrade \"pypistats[pandas]\" # may need this if pypistats wasn't installed with it\n",
    "# Note: a numpy version is also available"
   ]
  },
  {
   "cell_type": "code",
   "execution_count": 7,
   "metadata": {},
   "outputs": [],
   "source": [
    "cwd = os.getcwd()\n",
    "\n",
    "trackpath= cwd + '/' # '/doc/source/tracking/pypistats/'\n",
    "downloadfn = \"downloads_data.csv\"\n",
    "sysdownloadfn = \"sys_downloads_data.csv\""
   ]
  },
  {
   "cell_type": "code",
   "execution_count": null,
   "metadata": {},
   "outputs": [],
   "source": [
    "downloads = pypistats.overall(\"icepyx\", total=True, format=\"pandas\").drop(columns=['percent'])\n",
    "downloads = downloads[downloads.category != \"Total\"]\n",
    "\n",
    "# try:\n",
    "exist_downloads = pd.read_csv(trackpath+downloadfn)#.drop(columns=['percent'])\n",
    "# exist_downloads = exist_downloads[exist_downloads.category != \"Total\"]\n",
    "dl_data = downloads.merge(exist_downloads, how='outer', \n",
    "                          on=['category','date','downloads']).reindex()\n",
    "# except:\n",
    "#     dl_data = downloads\n",
    "    \n",
    "dl_data.to_csv(trackpath+downloadfn, index=False)"
   ]
  },
  {
   "cell_type": "code",
   "execution_count": 8,
   "metadata": {},
   "outputs": [],
   "source": [
    "sysdownloads = pypistats.system(\"icepyx\", total=True, format=\"pandas\").drop(columns=['percent'])\n",
    "sysdownloads = sysdownloads[sysdownloads.category != \"Total\"]\n",
    "# try:\n",
    "exist_sysdownloads = pd.read_csv(trackpath+sysdownloadfn)#.drop(columns=['percent'])\n",
    "# exist_sysdownloads = exist_sysdownloads[exist_sysdownloads.category != \"Total\"]\n",
    "exist_sysdownloads['category'] = exist_sysdownloads['category'].fillna(\"null\")\n",
    "sysdl_data = sysdownloads.merge(exist_sysdownloads, how='outer', \n",
    "                              on=['category','date','downloads']).reindex()\n",
    "# except:\n",
    "#     dl_data = sysdownloads\n",
    "    \n",
    "sysdl_data.to_csv(trackpath+sysdownloadfn, index=False)"
   ]
  },
  {
   "cell_type": "code",
   "execution_count": null,
   "metadata": {},
   "outputs": [],
   "source": [
    "dl_data = dl_data.groupby(\"category\").get_group(\"without_mirrors\").sort_values(\"date\")\n",
    "\n",
    "chart = dl_data.plot(x=\"date\", y=\"downloads\", figsize=(10, 2),\n",
    "                       label=\"Number of PyPI Downloads\")\n",
    "chart.figure.show()\n",
    "chart.figure.savefig(trackpath+\"downloads.svg\")"
   ]
  },
  {
   "cell_type": "code",
   "execution_count": null,
   "metadata": {},
   "outputs": [],
   "source": []
  }
 ],
 "metadata": {
  "kernelspec": {
   "display_name": "Python 3",
   "language": "python",
   "name": "python3"
  },
  "language_info": {
   "codemirror_mode": {
    "name": "ipython",
    "version": 3
   },
   "file_extension": ".py",
   "mimetype": "text/x-python",
   "name": "python",
   "nbconvert_exporter": "python",
   "pygments_lexer": "ipython3",
   "version": "3.9.4"
  }
 },
 "nbformat": 4,
 "nbformat_minor": 4
}
